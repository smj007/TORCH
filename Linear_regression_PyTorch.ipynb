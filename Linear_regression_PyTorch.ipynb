{
  "nbformat": 4,
  "nbformat_minor": 0,
  "metadata": {
    "colab": {
      "name": "Linear regression - PyTorch",
      "provenance": []
    },
    "kernelspec": {
      "name": "python3",
      "display_name": "Python 3"
    },
    "accelerator": "GPU"
  },
  "cells": [
    {
      "cell_type": "code",
      "metadata": {
        "id": "UqANijpQcTqq",
        "colab_type": "code",
        "colab": {}
      },
      "source": [
        "import matplotlib.pyplot as plt\n",
        "import numpy as np\n",
        "\n",
        "import torch\n",
        "import torch.nn as nn\n"
      ],
      "execution_count": 1,
      "outputs": []
    },
    {
      "cell_type": "code",
      "metadata": {
        "id": "LJdDngAzcsVr",
        "colab_type": "code",
        "colab": {
          "base_uri": "https://localhost:8080/",
          "height": 279
        },
        "outputId": "ae394292-c718-4e3e-b981-a6aca52808bf"
      },
      "source": [
        "X = torch.randn(100, 1) * 10\n",
        "y = X + torch.randn(100, 1) * 3\n",
        "plt.plot(X.numpy(), y.numpy(), 'o')\n",
        "plt.ylabel('y')\n",
        "plt.xlabel('x');\n"
      ],
      "execution_count": 2,
      "outputs": [
        {
          "output_type": "display_data",
          "data": {
            "image/png": "[encoded data removed]",
            "text/plain": [
              "<Figure size 432x288 with 1 Axes>"
            ]
          },
          "metadata": {
            "tags": [],
            "needs_background": "light"
          }
        }
      ]
    },
    {
      "cell_type": "code",
      "metadata": {
        "id": "vZ0sy2nGeO6F",
        "colab_type": "code",
        "colab": {}
      },
      "source": [
        "class LR(nn.Module):\n",
        "  def __init__(self, i, o):\n",
        "    super().__init__()\n",
        "    self.linear = nn.Linear(i, o)\n",
        "\n",
        "  def forward(self, x):\n",
        "    pred = self.linear(x)\n",
        "    return pred  "
      ],
      "execution_count": 3,
      "outputs": []
    },
    {
      "cell_type": "code",
      "metadata": {
        "id": "qxpvbA98dibQ",
        "colab_type": "code",
        "colab": {
          "base_uri": "https://localhost:8080/",
          "height": 69
        },
        "outputId": "392e5ffe-bf53-453b-d66d-fc987730d849"
      },
      "source": [
        "torch.manual_seed(1)\n",
        "model = LR(1, 1)\n",
        "print(model)"
      ],
      "execution_count": 4,
      "outputs": [
        {
          "output_type": "stream",
          "text": [
            "LR(\n",
            "  (linear): Linear(in_features=1, out_features=1, bias=True)\n",
            ")\n"
          ],
          "name": "stdout"
        }
      ]
    },
    {
      "cell_type": "code",
      "metadata": {
        "id": "i_cGvtMfewb0",
        "colab_type": "code",
        "colab": {}
      },
      "source": [
        "[w, b] = model.parameters()\n",
        "def get_params():\n",
        "  return (w[0][0].item(), b[0].item())"
      ],
      "execution_count": 5,
      "outputs": []
    },
    {
      "cell_type": "code",
      "metadata": {
        "id": "ExxHQqlHe7Nz",
        "colab_type": "code",
        "colab": {}
      },
      "source": [
        "def plot_graph(title):\n",
        "  plt.title(title)\n",
        "  w1, b1 = get_params()\n",
        "  x1 = np.array([-30, 30])\n",
        "  y1 = w1 * x1 + b1\n",
        "  plt.plot(x1, y1, 'r')\n",
        "  plt.scatter(X, y)\n",
        "  plt.show()"
      ],
      "execution_count": 6,
      "outputs": []
    },
    {
      "cell_type": "code",
      "metadata": {
        "id": "suddj8iiiasN",
        "colab_type": "code",
        "colab": {
          "base_uri": "https://localhost:8080/",
          "height": 281
        },
        "outputId": "e08387f6-4cbc-4454-e910-9b187f1e52a2"
      },
      "source": [
        "plot_graph(\"Model 1\")"
      ],
      "execution_count": 7,
      "outputs": [
        {
          "output_type": "display_data",
          "data": {
            "image/png": "[encoded data removed]",
            "text/plain": [
              "<Figure size 432x288 with 1 Axes>"
            ]
          },
          "metadata": {
            "tags": [],
            "needs_background": "light"
          }
        }
      ]
    },
    {
      "cell_type": "code",
      "metadata": {
        "id": "xTsH_ocOicwC",
        "colab_type": "code",
        "colab": {}
      },
      "source": [
        "criterion = nn.MSELoss()\n",
        "optimizer = torch.optim.SGD(model.parameters(), lr = 0.01)"
      ],
      "execution_count": 8,
      "outputs": []
    },
    {
      "cell_type": "code",
      "metadata": {
        "id": "xqcsc42IsBmb",
        "colab_type": "code",
        "colab": {
          "base_uri": "https://localhost:8080/",
          "height": 1000
        },
        "outputId": "6fc92d44-3718-45e0-8a88-a848f1c0ee99"
      },
      "source": [
        "epochs = 100\n",
        "losses = []\n",
        "for epoch in range(epochs):\n",
        "  y_pred = model.forward(X)\n",
        "  loss = criterion(y_pred, y)\n",
        "  print(\"Epoch: \", epoch, \"Loss: \", loss.item())\n",
        "\n",
        "  losses.append(loss)\n",
        "  optimizer.zero_grad()\n",
        "  loss.backward()\n",
        "  optimizer.step()\n",
        "\n",
        "  #Note here that we need to use zero_grad as the gradients of the loss fn tend to accumulate\n",
        "  #Optimizer used here is always to step in opp dirn of gradient rise, after calc of the gradient"
      ],
      "execution_count": 9,
      "outputs": [
        {
          "output_type": "stream",
          "text": [
            "Epoch:  0 Loss:  34.4139404296875\n",
            "Epoch:  1 Loss:  23.985158920288086\n",
            "Epoch:  2 Loss:  17.837261199951172\n",
            "Epoch:  3 Loss:  14.212259292602539\n",
            "Epoch:  4 Loss:  12.074118614196777\n",
            "Epoch:  5 Loss:  10.812294006347656\n",
            "Epoch:  6 Loss:  10.066957473754883\n",
            "Epoch:  7 Loss:  9.62607192993164\n",
            "Epoch:  8 Loss:  9.364663124084473\n",
            "Epoch:  9 Loss:  9.209088325500488\n",
            "Epoch:  10 Loss:  9.115943908691406\n",
            "Epoch:  11 Loss:  9.059645652770996\n",
            "Epoch:  12 Loss:  9.025117874145508\n",
            "Epoch:  13 Loss:  9.003475189208984\n",
            "Epoch:  14 Loss:  8.989473342895508\n",
            "Epoch:  15 Loss:  8.980024337768555\n",
            "Epoch:  16 Loss:  8.973308563232422\n",
            "Epoch:  17 Loss:  8.968243598937988\n",
            "Epoch:  18 Loss:  8.96419906616211\n",
            "Epoch:  19 Loss:  8.960794448852539\n",
            "Epoch:  20 Loss:  8.957810401916504\n",
            "Epoch:  21 Loss:  8.955109596252441\n",
            "Epoch:  22 Loss:  8.952613830566406\n",
            "Epoch:  23 Loss:  8.950274467468262\n",
            "Epoch:  24 Loss:  8.9480619430542\n",
            "Epoch:  25 Loss:  8.945956230163574\n",
            "Epoch:  26 Loss:  8.94394588470459\n",
            "Epoch:  27 Loss:  8.942021369934082\n",
            "Epoch:  28 Loss:  8.94017505645752\n",
            "Epoch:  29 Loss:  8.93840503692627\n",
            "Epoch:  30 Loss:  8.936705589294434\n",
            "Epoch:  31 Loss:  8.935074806213379\n",
            "Epoch:  32 Loss:  8.933507919311523\n",
            "Epoch:  33 Loss:  8.932003021240234\n",
            "Epoch:  34 Loss:  8.930558204650879\n",
            "Epoch:  35 Loss:  8.929168701171875\n",
            "Epoch:  36 Loss:  8.927834510803223\n",
            "Epoch:  37 Loss:  8.926551818847656\n",
            "Epoch:  38 Loss:  8.925320625305176\n",
            "Epoch:  39 Loss:  8.924138069152832\n",
            "Epoch:  40 Loss:  8.923001289367676\n",
            "Epoch:  41 Loss:  8.921910285949707\n",
            "Epoch:  42 Loss:  8.920860290527344\n",
            "Epoch:  43 Loss:  8.919853210449219\n",
            "Epoch:  44 Loss:  8.91888427734375\n",
            "Epoch:  45 Loss:  8.917956352233887\n",
            "Epoch:  46 Loss:  8.917060852050781\n",
            "Epoch:  47 Loss:  8.916202545166016\n",
            "Epoch:  48 Loss:  8.91537857055664\n",
            "Epoch:  49 Loss:  8.914587020874023\n",
            "Epoch:  50 Loss:  8.913824081420898\n",
            "Epoch:  51 Loss:  8.913093566894531\n",
            "Epoch:  52 Loss:  8.912391662597656\n",
            "Epoch:  53 Loss:  8.91171646118164\n",
            "Epoch:  54 Loss:  8.9110689163208\n",
            "Epoch:  55 Loss:  8.910447120666504\n",
            "Epoch:  56 Loss:  8.909847259521484\n",
            "Epoch:  57 Loss:  8.909271240234375\n",
            "Epoch:  58 Loss:  8.908720016479492\n",
            "Epoch:  59 Loss:  8.908190727233887\n",
            "Epoch:  60 Loss:  8.90768051147461\n",
            "Epoch:  61 Loss:  8.907190322875977\n",
            "Epoch:  62 Loss:  8.906720161437988\n",
            "Epoch:  63 Loss:  8.906268119812012\n",
            "Epoch:  64 Loss:  8.905834197998047\n",
            "Epoch:  65 Loss:  8.905417442321777\n",
            "Epoch:  66 Loss:  8.905016899108887\n",
            "Epoch:  67 Loss:  8.904630661010742\n",
            "Epoch:  68 Loss:  8.90426254272461\n",
            "Epoch:  69 Loss:  8.903905868530273\n",
            "Epoch:  70 Loss:  8.903564453125\n",
            "Epoch:  71 Loss:  8.903236389160156\n",
            "Epoch:  72 Loss:  8.902921676635742\n",
            "Epoch:  73 Loss:  8.902619361877441\n",
            "Epoch:  74 Loss:  8.902328491210938\n",
            "Epoch:  75 Loss:  8.90204906463623\n",
            "Epoch:  76 Loss:  8.901779174804688\n",
            "Epoch:  77 Loss:  8.901521682739258\n",
            "Epoch:  78 Loss:  8.901274681091309\n",
            "Epoch:  79 Loss:  8.90103530883789\n",
            "Epoch:  80 Loss:  8.900808334350586\n",
            "Epoch:  81 Loss:  8.900588035583496\n",
            "Epoch:  82 Loss:  8.900378227233887\n",
            "Epoch:  83 Loss:  8.900174140930176\n",
            "Epoch:  84 Loss:  8.899980545043945\n",
            "Epoch:  85 Loss:  8.899792671203613\n",
            "Epoch:  86 Loss:  8.899613380432129\n",
            "Epoch:  87 Loss:  8.89944076538086\n",
            "Epoch:  88 Loss:  8.899273872375488\n",
            "Epoch:  89 Loss:  8.899115562438965\n",
            "Epoch:  90 Loss:  8.898962020874023\n",
            "Epoch:  91 Loss:  8.898816108703613\n",
            "Epoch:  92 Loss:  8.898674011230469\n",
            "Epoch:  93 Loss:  8.898538589477539\n",
            "Epoch:  94 Loss:  8.898407936096191\n",
            "Epoch:  95 Loss:  8.898283004760742\n",
            "Epoch:  96 Loss:  8.898162841796875\n",
            "Epoch:  97 Loss:  8.89804744720459\n",
            "Epoch:  98 Loss:  8.897934913635254\n",
            "Epoch:  99 Loss:  8.897829055786133\n"
          ],
          "name": "stdout"
        }
      ]
    },
    {
      "cell_type": "code",
      "metadata": {
        "id": "fLra18mSsrso",
        "colab_type": "code",
        "colab": {
          "base_uri": "https://localhost:8080/",
          "height": 281
        },
        "outputId": "5fd25f9a-2825-477c-83dc-5571c24f0652"
      },
      "source": [
        "#Plotting the fit\n",
        "plot_graph(\"Trained Model\")"
      ],
      "execution_count": 10,
      "outputs": [
        {
          "output_type": "display_data",
          "data": {
            "image/png": "[encoded data removed]",
            "text/plain": [
              "<Figure size 432x288 with 1 Axes>"
            ]
          },
          "metadata": {
            "tags": [],
            "needs_background": "light"
          }
        }
      ]
    },
    {
      "cell_type": "code",
      "metadata": {
        "id": "_3FhqI2xtZqs",
        "colab_type": "code",
        "colab": {
          "base_uri": "https://localhost:8080/",
          "height": 296
        },
        "outputId": "fd8dc858-b244-4e4d-9175-6a83832123b4"
      },
      "source": [
        "plt.plot(range(epochs), losses)\n",
        "plt.xlabel('Epoch')\n",
        "plt.ylabel('Loss')"
      ],
      "execution_count": 11,
      "outputs": [
        {
          "output_type": "execute_result",
          "data": {
            "text/plain": [
              "Text(0, 0.5, 'Loss')"
            ]
          },
          "metadata": {
            "tags": []
          },
          "execution_count": 11
        },
        {
          "output_type": "display_data",
          "data": {
            "image/png": "[encoded data removed]",
            "text/plain": [
              "<Figure size 432x288 with 1 Axes>"
            ]
          },
          "metadata": {
            "tags": [],
            "needs_background": "light"
          }
        }
      ]
    },
    {
      "cell_type": "code",
      "metadata": {
        "id": "WgHznzX6tmr6",
        "colab_type": "code",
        "colab": {}
      },
      "source": [
        ""
      ],
      "execution_count": 11,
      "outputs": []
    }
  ]
}