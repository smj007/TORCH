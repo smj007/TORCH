{
  "nbformat": 4,
  "nbformat_minor": 0,
  "metadata": {
    "colab": {
      "name": "GNNs_Torch.ipynb",
      "provenance": [],
      "collapsed_sections": []
    },
    "kernelspec": {
      "name": "python3",
      "display_name": "Python 3"
    },
    "language_info": {
      "name": "python"
    },
    "accelerator": "GPU"
  },
  "cells": [
    {
      "cell_type": "markdown",
      "metadata": {
        "id": "8-8H26PGarod"
      },
      "source": [
        "Installing dependencies"
      ]
    },
    {
      "cell_type": "code",
      "metadata": {
        "colab": {
          "base_uri": "https://localhost:8080/"
        },
        "id": "ujnef-y5bBJj",
        "outputId": "c53a97b7-3dd0-45b9-ee02-ec9f05cb322f"
      },
      "source": [
        "!pip install torch==1.4.0 \\\n",
        "torchvision==0.5.0 -f https://download.pytorch.org/whl/cu101/torch_stable.html"
      ],
      "execution_count": 1,
      "outputs": [
        {
          "output_type": "stream",
          "text": [
            "Looking in links: https://download.pytorch.org/whl/cu101/torch_stable.html\n",
            "Collecting torch==1.4.0\n",
            "\u001b[?25l  Downloading https://files.pythonhosted.org/packages/1a/3b/fa92ece1e58a6a48ec598bab327f39d69808133e5b2fb33002ca754e381e/torch-1.4.0-cp37-cp37m-manylinux1_x86_64.whl (753.4MB)\n",
            "\u001b[K     |████████████████████████████████| 753.4MB 11kB/s \n",
            "\u001b[?25hCollecting torchvision==0.5.0\n",
            "\u001b[?25l  Downloading https://files.pythonhosted.org/packages/1c/32/cb0e4c43cd717da50258887b088471568990b5a749784c465a8a1962e021/torchvision-0.5.0-cp37-cp37m-manylinux1_x86_64.whl (4.0MB)\n",
            "\u001b[K     |████████████████████████████████| 4.0MB 30.3MB/s \n",
            "\u001b[?25hRequirement already satisfied: pillow>=4.1.1 in /usr/local/lib/python3.7/dist-packages (from torchvision==0.5.0) (7.1.2)\n",
            "Requirement already satisfied: six in /usr/local/lib/python3.7/dist-packages (from torchvision==0.5.0) (1.15.0)\n",
            "Requirement already satisfied: numpy in /usr/local/lib/python3.7/dist-packages (from torchvision==0.5.0) (1.19.5)\n",
            "\u001b[31mERROR: torchtext 0.9.1 has requirement torch==1.8.1, but you'll have torch 1.4.0 which is incompatible.\u001b[0m\n",
            "Installing collected packages: torch, torchvision\n",
            "  Found existing installation: torch 1.8.1+cu101\n",
            "    Uninstalling torch-1.8.1+cu101:\n",
            "      Successfully uninstalled torch-1.8.1+cu101\n",
            "  Found existing installation: torchvision 0.9.1+cu101\n",
            "    Uninstalling torchvision-0.9.1+cu101:\n",
            "      Successfully uninstalled torchvision-0.9.1+cu101\n",
            "Successfully installed torch-1.4.0 torchvision-0.5.0\n"
          ],
          "name": "stdout"
        }
      ]
    },
    {
      "cell_type": "code",
      "metadata": {
        "id": "2cU9A5ZoaqzO",
        "colab": {
          "base_uri": "https://localhost:8080/"
        },
        "outputId": "5b5bd70f-b38d-4412-be31-f4fdd9e5e042"
      },
      "source": [
        "!pip install torch-geometric \\\n",
        "  torch-sparse==latest+cu101 \\\n",
        "  torch-scatter==latest+cu101 \\\n",
        "  torch-cluster==latest+cu101 \\\n",
        "  -f https://pytorch-geometric.com/whl/torch-1.4.0.html"
      ],
      "execution_count": 2,
      "outputs": [
        {
          "output_type": "stream",
          "text": [
            "Looking in links: https://pytorch-geometric.com/whl/torch-1.4.0.html\n",
            "Collecting torch-geometric\n",
            "\u001b[?25l  Downloading https://files.pythonhosted.org/packages/d9/99/18781f60303b2f7097a13feed0b51e531364251f441bd83e38fac09944bd/torch_geometric-1.7.0.tar.gz (212kB)\n",
            "\u001b[K     |████████████████████████████████| 215kB 4.2MB/s \n",
            "\u001b[?25hCollecting torch-sparse==latest+cu101\n",
            "\u001b[?25l  Downloading https://pytorch-geometric.com/whl/torch-1.4.0/torch_sparse-latest%2Bcu101-cp37-cp37m-linux_x86_64.whl (15.2MB)\n",
            "\u001b[K     |████████████████████████████████| 15.2MB 5.9MB/s \n",
            "\u001b[?25hCollecting torch-scatter==latest+cu101\n",
            "\u001b[?25l  Downloading https://pytorch-geometric.com/whl/torch-1.4.0/torch_scatter-latest%2Bcu101-cp37-cp37m-linux_x86_64.whl (10.6MB)\n",
            "\u001b[K     |████████████████████████████████| 10.6MB 49.8MB/s \n",
            "\u001b[?25hCollecting torch-cluster==latest+cu101\n",
            "\u001b[?25l  Downloading https://pytorch-geometric.com/whl/torch-1.4.0/torch_cluster-latest%2Bcu101-cp37-cp37m-linux_x86_64.whl (14.5MB)\n",
            "\u001b[K     |████████████████████████████████| 14.5MB 329kB/s \n",
            "\u001b[?25hRequirement already satisfied: numpy in /usr/local/lib/python3.7/dist-packages (from torch-geometric) (1.19.5)\n",
            "Requirement already satisfied: tqdm in /usr/local/lib/python3.7/dist-packages (from torch-geometric) (4.41.1)\n",
            "Requirement already satisfied: scipy in /usr/local/lib/python3.7/dist-packages (from torch-geometric) (1.4.1)\n",
            "Requirement already satisfied: networkx in /usr/local/lib/python3.7/dist-packages (from torch-geometric) (2.5.1)\n",
            "Requirement already satisfied: python-louvain in /usr/local/lib/python3.7/dist-packages (from torch-geometric) (0.15)\n",
            "Requirement already satisfied: scikit-learn in /usr/local/lib/python3.7/dist-packages (from torch-geometric) (0.22.2.post1)\n",
            "Requirement already satisfied: numba in /usr/local/lib/python3.7/dist-packages (from torch-geometric) (0.51.2)\n",
            "Requirement already satisfied: requests in /usr/local/lib/python3.7/dist-packages (from torch-geometric) (2.23.0)\n",
            "Requirement already satisfied: pandas in /usr/local/lib/python3.7/dist-packages (from torch-geometric) (1.1.5)\n",
            "Collecting rdflib\n",
            "\u001b[?25l  Downloading https://files.pythonhosted.org/packages/d0/6b/6454aa1db753c0f8bc265a5bd5c10b5721a4bb24160fb4faf758cf6be8a1/rdflib-5.0.0-py3-none-any.whl (231kB)\n",
            "\u001b[K     |████████████████████████████████| 235kB 7.1MB/s \n",
            "\u001b[?25hRequirement already satisfied: h5py in /usr/local/lib/python3.7/dist-packages (from torch-geometric) (2.10.0)\n",
            "Requirement already satisfied: googledrivedownloader in /usr/local/lib/python3.7/dist-packages (from torch-geometric) (0.4)\n",
            "Collecting ase\n",
            "\u001b[?25l  Downloading https://files.pythonhosted.org/packages/a5/36/de17e79f29e06d9a92746d0dd9ec4636487ab03f6af10e78586aae533f7a/ase-3.21.1-py3-none-any.whl (2.2MB)\n",
            "\u001b[K     |████████████████████████████████| 2.2MB 7.6MB/s \n",
            "\u001b[?25hRequirement already satisfied: jinja2 in /usr/local/lib/python3.7/dist-packages (from torch-geometric) (2.11.3)\n",
            "Requirement already satisfied: decorator<5,>=4.3 in /usr/local/lib/python3.7/dist-packages (from networkx->torch-geometric) (4.4.2)\n",
            "Requirement already satisfied: joblib>=0.11 in /usr/local/lib/python3.7/dist-packages (from scikit-learn->torch-geometric) (1.0.1)\n",
            "Requirement already satisfied: llvmlite<0.35,>=0.34.0.dev0 in /usr/local/lib/python3.7/dist-packages (from numba->torch-geometric) (0.34.0)\n",
            "Requirement already satisfied: setuptools in /usr/local/lib/python3.7/dist-packages (from numba->torch-geometric) (56.0.0)\n",
            "Requirement already satisfied: idna<3,>=2.5 in /usr/local/lib/python3.7/dist-packages (from requests->torch-geometric) (2.10)\n",
            "Requirement already satisfied: certifi>=2017.4.17 in /usr/local/lib/python3.7/dist-packages (from requests->torch-geometric) (2020.12.5)\n",
            "Requirement already satisfied: urllib3!=1.25.0,!=1.25.1,<1.26,>=1.21.1 in /usr/local/lib/python3.7/dist-packages (from requests->torch-geometric) (1.24.3)\n",
            "Requirement already satisfied: chardet<4,>=3.0.2 in /usr/local/lib/python3.7/dist-packages (from requests->torch-geometric) (3.0.4)\n",
            "Requirement already satisfied: python-dateutil>=2.7.3 in /usr/local/lib/python3.7/dist-packages (from pandas->torch-geometric) (2.8.1)\n",
            "Requirement already satisfied: pytz>=2017.2 in /usr/local/lib/python3.7/dist-packages (from pandas->torch-geometric) (2018.9)\n",
            "Collecting isodate\n",
            "\u001b[?25l  Downloading https://files.pythonhosted.org/packages/9b/9f/b36f7774ff5ea8e428fdcfc4bb332c39ee5b9362ddd3d40d9516a55221b2/isodate-0.6.0-py2.py3-none-any.whl (45kB)\n",
            "\u001b[K     |████████████████████████████████| 51kB 152kB/s \n",
            "\u001b[?25hRequirement already satisfied: six in /usr/local/lib/python3.7/dist-packages (from rdflib->torch-geometric) (1.15.0)\n",
            "Requirement already satisfied: pyparsing in /usr/local/lib/python3.7/dist-packages (from rdflib->torch-geometric) (2.4.7)\n",
            "Requirement already satisfied: matplotlib>=2.0.0 in /usr/local/lib/python3.7/dist-packages (from ase->torch-geometric) (3.2.2)\n",
            "Requirement already satisfied: MarkupSafe>=0.23 in /usr/local/lib/python3.7/dist-packages (from jinja2->torch-geometric) (1.1.1)\n",
            "Requirement already satisfied: kiwisolver>=1.0.1 in /usr/local/lib/python3.7/dist-packages (from matplotlib>=2.0.0->ase->torch-geometric) (1.3.1)\n",
            "Requirement already satisfied: cycler>=0.10 in /usr/local/lib/python3.7/dist-packages (from matplotlib>=2.0.0->ase->torch-geometric) (0.10.0)\n",
            "Building wheels for collected packages: torch-geometric\n",
            "  Building wheel for torch-geometric (setup.py) ... \u001b[?25l\u001b[?25hdone\n",
            "  Created wheel for torch-geometric: filename=torch_geometric-1.7.0-cp37-none-any.whl size=365386 sha256=a8008a6ea742926bbe1e2790f1cea3e8a5c5f3b777099075f65f9d5f4ef3a64b\n",
            "  Stored in directory: /root/.cache/pip/wheels/ce/fb/df/37cd43d1433e65b2d3417a71438404d0eeb4fbbfa40730931c\n",
            "Successfully built torch-geometric\n",
            "Installing collected packages: isodate, rdflib, ase, torch-geometric, torch-sparse, torch-scatter, torch-cluster\n",
            "Successfully installed ase-3.21.1 isodate-0.6.0 rdflib-5.0.0 torch-cluster-1.5.4 torch-geometric-1.7.0 torch-scatter-2.0.4 torch-sparse-0.6.1\n"
          ],
          "name": "stdout"
        }
      ]
    },
    {
      "cell_type": "markdown",
      "metadata": {
        "id": "FH_eSQZ8ZD6z"
      },
      "source": [
        "Simple Graph"
      ]
    },
    {
      "cell_type": "markdown",
      "metadata": {
        "id": "UOt1L0_NY8J4"
      },
      "source": [
        "![image.png](data:image/png;base64,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)"
      ]
    },
    {
      "cell_type": "markdown",
      "metadata": {
        "id": "7MOonsMFaL4Z"
      },
      "source": [
        "Creating a data object"
      ]
    },
    {
      "cell_type": "code",
      "metadata": {
        "id": "nfIbRmAFtVHW"
      },
      "source": [
        "import torch\n",
        "from torch_geometric.data import Data\n",
        "\n",
        "# Features - \n",
        "x = torch.tensor([[2, 1], \n",
        "                  [5, 6], \n",
        "                  [3, 7], \n",
        "                  [12, 0]], dtype = torch.float)\n",
        "\n",
        "# Labels - \n",
        "y = torch.tensor([0, 1, 0, 1], dtype = torch.float)\n",
        "\n",
        "# Adjacency matrix in the COO Format - Line 1 Source, Line 2 Dst\n",
        "edge_index = torch.tensor([[0, 0, 1, 2, 3],\n",
        "                           [1, 3, 0, 1, 2]], dtype = torch.long)\n",
        "\n",
        "data = Data(x = x,\n",
        "            y = y,\n",
        "            edge_index = edge_index)"
      ],
      "execution_count": 3,
      "outputs": []
    },
    {
      "cell_type": "code",
      "metadata": {
        "id": "UHXz8upHXI2J"
      },
      "source": [
        "# Dataset in PyG - Example is of an InMemoryDataset\n",
        "\n",
        "import torch\n",
        "from torch_geometric.data import InMemoryDataset\n",
        "\n",
        "class CustomDataset(InMemoryDataset):\n",
        "  def __init__(self, \n",
        "               root,\n",
        "               transform = None,\n",
        "               pre_transform = None):\n",
        "    super(CustomDataset, self).__init__(root,\n",
        "                                        transform,\n",
        "                                        pre_transform)\n",
        "    self.data, self.slices = torch.load(self.processed_paths[0])\n",
        "\n",
        "    @property\n",
        "    def raw_file_names(self):\n",
        "      return ['x', 'y', 'z']\n",
        "\n",
        "    @property\n",
        "    def processed_file_names(self):\n",
        "      return ['data.pt'] \n",
        "\n",
        "    @property\n",
        "    def download(self):\n",
        "      pass\n",
        "\n",
        "    @property\n",
        "    def process(self):\n",
        "      data_list = [...]\n",
        "\n",
        "      if self.pre_filter is not None:\n",
        "        data_list = [data for data in data_list if self.pre_filter(data)]\n",
        "\n",
        "      if self.pre_transform is not None:\n",
        "        data_list = [self.pre_transform(data) for data in data_list]\n",
        "\n",
        "      data, slices = self.collate(data_list)\n",
        "      torch.save((data, slices), self.processed_paths[0])\n",
        "            "
      ],
      "execution_count": 4,
      "outputs": []
    },
    {
      "cell_type": "code",
      "metadata": {
        "id": "B2LEvTzWXIzi",
        "colab": {
          "base_uri": "https://localhost:8080/",
          "height": 229
        },
        "outputId": "761e2262-46f6-4d9e-c6c7-7d3e8f739869"
      },
      "source": [
        "# Dataloader part - Sample\n",
        "\n",
        "from torch.utils.data import DataLoader \n",
        "\n",
        "loader = DataLoader(dataset,\n",
        "                    batch_size = 512,\n",
        "                    shuffle = True)\n",
        "\n",
        "for batch in loader:\n",
        "  batch"
      ],
      "execution_count": 5,
      "outputs": [
        {
          "output_type": "error",
          "ename": "NameError",
          "evalue": "ignored",
          "traceback": [
            "\u001b[0;31m---------------------------------------------------------------------------\u001b[0m",
            "\u001b[0;31mNameError\u001b[0m                                 Traceback (most recent call last)",
            "\u001b[0;32m<ipython-input-5-30714d84780c>\u001b[0m in \u001b[0;36m<module>\u001b[0;34m()\u001b[0m\n\u001b[1;32m      3\u001b[0m \u001b[0;32mfrom\u001b[0m \u001b[0mtorch\u001b[0m\u001b[0;34m.\u001b[0m\u001b[0mutils\u001b[0m\u001b[0;34m.\u001b[0m\u001b[0mdata\u001b[0m \u001b[0;32mimport\u001b[0m \u001b[0mDataLoader\u001b[0m\u001b[0;34m\u001b[0m\u001b[0;34m\u001b[0m\u001b[0m\n\u001b[1;32m      4\u001b[0m \u001b[0;34m\u001b[0m\u001b[0m\n\u001b[0;32m----> 5\u001b[0;31m loader = DataLoader(dataset,\n\u001b[0m\u001b[1;32m      6\u001b[0m                     \u001b[0mbatch_size\u001b[0m \u001b[0;34m=\u001b[0m \u001b[0;36m512\u001b[0m\u001b[0;34m,\u001b[0m\u001b[0;34m\u001b[0m\u001b[0;34m\u001b[0m\u001b[0m\n\u001b[1;32m      7\u001b[0m                     shuffle = True)\n",
            "\u001b[0;31mNameError\u001b[0m: name 'dataset' is not defined"
          ]
        }
      ]
    },
    {
      "cell_type": "markdown",
      "metadata": {
        "id": "zylc63-hmxto"
      },
      "source": [
        "## SAGEConv"
      ]
    },
    {
      "cell_type": "code",
      "metadata": {
        "id": "jUNN7h81gYGF"
      },
      "source": [
        "import torch\n",
        "import torch.nn as nn\n",
        "from torch_geometric.nn import MessagePassing \n",
        "from torch_geometric.utils import remove_self_loops, add_self_loops\n",
        "\n",
        "class SAGEConv(MessagePassing):\n",
        "  def __init__(self, in_channels, out_channels):\n",
        "    super(SAGEConv, self).__init__(aggr = 'max')\n",
        "    self.linear = nn.Linear(in_channels, out_channels)\n",
        "    self.act = nn.ReLU()\n",
        "    self.update_linear = nn.Linear(in_channels + out_channels,\n",
        "                                   in_channels,\n",
        "                                   bias = False)\n",
        "    self.update_act = nn.ReLU()\n",
        "\n",
        "\n",
        "  def forward(self, x, edge_index):\n",
        "    '''\n",
        "    Shape of x : [N, in_channels] \n",
        "    Shape of edge_index : [2, E]\n",
        "    '''\n",
        "\n",
        "    edge_index, _ = remove_self_loops(edge_index)\n",
        "    edge_index, _ = add_self_loops(edge_index, num_nodes = x.size(0))\n",
        "    return self.propagate(edge_index,\n",
        "                          size = (x.size(0), x.size(0)),\n",
        "                          x = x)\n",
        "\n",
        "  def message(self, x_j):\n",
        "    '''\n",
        "    Shape of x_j : [E, in_channels] (Neighbours of x)\n",
        "    '''\n",
        "\n",
        "    x_j = self.linear(x_j)\n",
        "    x_j = self.act(x_j)\n",
        "    return x_j\n",
        "\n",
        "  def update(self, aggr_out, x):\n",
        "    '''\n",
        "    Shape of aggr_out : [N, out_channels]\n",
        "    '''\n",
        "\n",
        "    embs = torch.cat([aggr_out, x], dim = 1)\n",
        "    embs = self.update_act(self.update_linear(embs))\n",
        "    return embs\n",
        "     "
      ],
      "execution_count": 6,
      "outputs": []
    },
    {
      "cell_type": "markdown",
      "metadata": {
        "id": "JQPIeSx_rony"
      },
      "source": [
        "## Applying to RecSys"
      ]
    },
    {
      "cell_type": "markdown",
      "metadata": {
        "id": "NOTLxtB3vpIV"
      },
      "source": [
        "id = https://drive.google.com/file/d/1PB8qyKwLHZ93Fi4Aw9z9moUvmNiRzx9g/view?usp=sharing"
      ]
    },
    {
      "cell_type": "code",
      "metadata": {
        "id": "yWFrHRX9voxF",
        "colab": {
          "base_uri": "https://localhost:8080/",
          "height": 257
        },
        "outputId": "26317c41-b773-4fe4-96e2-96f12fbe9d2a"
      },
      "source": [
        "!pip install gdown\n",
        "import gdown\n",
        "url = 'https://drive.google.com/uc?id=1PB8qyKwLHZ93Fi4Aw9z9moUvmNiRzx9g'\n",
        "output = 'yoochoose.zip'\n",
        "gdown.download(url, output, quiet=False)"
      ],
      "execution_count": 7,
      "outputs": [
        {
          "output_type": "stream",
          "text": [
            "Requirement already satisfied: gdown in /usr/local/lib/python3.7/dist-packages (3.6.4)\n",
            "Requirement already satisfied: requests in /usr/local/lib/python3.7/dist-packages (from gdown) (2.23.0)\n",
            "Requirement already satisfied: tqdm in /usr/local/lib/python3.7/dist-packages (from gdown) (4.41.1)\n",
            "Requirement already satisfied: six in /usr/local/lib/python3.7/dist-packages (from gdown) (1.15.0)\n",
            "Requirement already satisfied: chardet<4,>=3.0.2 in /usr/local/lib/python3.7/dist-packages (from requests->gdown) (3.0.4)\n",
            "Requirement already satisfied: urllib3!=1.25.0,!=1.25.1,<1.26,>=1.21.1 in /usr/local/lib/python3.7/dist-packages (from requests->gdown) (1.24.3)\n",
            "Requirement already satisfied: certifi>=2017.4.17 in /usr/local/lib/python3.7/dist-packages (from requests->gdown) (2020.12.5)\n",
            "Requirement already satisfied: idna<3,>=2.5 in /usr/local/lib/python3.7/dist-packages (from requests->gdown) (2.10)\n"
          ],
          "name": "stdout"
        },
        {
          "output_type": "stream",
          "text": [
            "Downloading...\n",
            "From: https://drive.google.com/uc?id=1PB8qyKwLHZ93Fi4Aw9z9moUvmNiRzx9g\n",
            "To: /content/yoochoose.zip\n",
            "434MB [00:02, 157MB/s]\n"
          ],
          "name": "stderr"
        },
        {
          "output_type": "execute_result",
          "data": {
            "application/vnd.google.colaboratory.intrinsic+json": {
              "type": "string"
            },
            "text/plain": [
              "'yoochoose.zip'"
            ]
          },
          "metadata": {
            "tags": []
          },
          "execution_count": 7
        }
      ]
    },
    {
      "cell_type": "code",
      "metadata": {
        "colab": {
          "base_uri": "https://localhost:8080/"
        },
        "id": "vpnOh5KbwMjE",
        "outputId": "84dbdea1-e176-46ab-b0b8-7e3da2b1d5fd"
      },
      "source": [
        "!unzip /content/yoochoose.zip"
      ],
      "execution_count": 8,
      "outputs": [
        {
          "output_type": "stream",
          "text": [
            "Archive:  /content/yoochoose.zip\n",
            "   creating: yoochoose-data/\n",
            "  inflating: yoochoose-data/yoochoose-buys.dat  \n",
            "  inflating: yoochoose-data/yoochoose-clicks.dat  \n",
            "  inflating: yoochoose-data/yoochoose-test.dat  \n",
            "  inflating: yoochoose-data/dataset-README.txt  \n"
          ],
          "name": "stdout"
        }
      ]
    },
    {
      "cell_type": "code",
      "metadata": {
        "id": "G-4thpyCwP_l"
      },
      "source": [
        "import os\n",
        "os.remove('/content/yoochoose.zip')"
      ],
      "execution_count": 9,
      "outputs": []
    },
    {
      "cell_type": "code",
      "metadata": {
        "id": "g2UpXtWZwYgz"
      },
      "source": [
        "os.chdir('/content/yoochoose-data')"
      ],
      "execution_count": 10,
      "outputs": []
    },
    {
      "cell_type": "code",
      "metadata": {
        "colab": {
          "base_uri": "https://localhost:8080/",
          "height": 249
        },
        "id": "ckKuMDHJrf1I",
        "outputId": "ff99456e-d33d-45b4-da8f-e4c2d639bb91"
      },
      "source": [
        "from sklearn.preprocessing import LabelEncoder\n",
        "import pandas as pd\n",
        "import numpy as np\n",
        "\n",
        "df = pd.read_csv('/content/yoochoose-data/yoochoose-clicks.dat', header = None)\n",
        "df.columns = ['session_id', 'timestamp', 'item_id', 'category']\n",
        "\n",
        "buys_df = pd.read_csv('/content/yoochoose-data/yoochoose-buys.dat', header = None)\n",
        "buys_df.columns = ['session_id','timestamp','item_id','price','quantity']\n",
        "\n",
        "item_encoder = LabelEncoder()\n",
        "df['item_id'] = item_encoder.fit_transform(df.item_id)\n",
        "df.head()"
      ],
      "execution_count": 11,
      "outputs": [
        {
          "output_type": "stream",
          "text": [
            "/usr/local/lib/python3.7/dist-packages/IPython/core/interactiveshell.py:2718: DtypeWarning: Columns (3) have mixed types.Specify dtype option on import or set low_memory=False.\n",
            "  interactivity=interactivity, compiler=compiler, result=result)\n"
          ],
          "name": "stderr"
        },
        {
          "output_type": "execute_result",
          "data": {
            "text/html": [
              "<div>\n",
              "<style scoped>\n",
              "    .dataframe tbody tr th:only-of-type {\n",
              "        vertical-align: middle;\n",
              "    }\n",
              "\n",
              "    .dataframe tbody tr th {\n",
              "        vertical-align: top;\n",
              "    }\n",
              "\n",
              "    .dataframe thead th {\n",
              "        text-align: right;\n",
              "    }\n",
              "</style>\n",
              "<table border=\"1\" class=\"dataframe\">\n",
              "  <thead>\n",
              "    <tr style=\"text-align: right;\">\n",
              "      <th></th>\n",
              "      <th>session_id</th>\n",
              "      <th>timestamp</th>\n",
              "      <th>item_id</th>\n",
              "      <th>category</th>\n",
              "    </tr>\n",
              "  </thead>\n",
              "  <tbody>\n",
              "    <tr>\n",
              "      <th>0</th>\n",
              "      <td>1</td>\n",
              "      <td>2014-04-07T10:51:09.277Z</td>\n",
              "      <td>2053</td>\n",
              "      <td>0</td>\n",
              "    </tr>\n",
              "    <tr>\n",
              "      <th>1</th>\n",
              "      <td>1</td>\n",
              "      <td>2014-04-07T10:54:09.868Z</td>\n",
              "      <td>2052</td>\n",
              "      <td>0</td>\n",
              "    </tr>\n",
              "    <tr>\n",
              "      <th>2</th>\n",
              "      <td>1</td>\n",
              "      <td>2014-04-07T10:54:46.998Z</td>\n",
              "      <td>2054</td>\n",
              "      <td>0</td>\n",
              "    </tr>\n",
              "    <tr>\n",
              "      <th>3</th>\n",
              "      <td>1</td>\n",
              "      <td>2014-04-07T10:57:00.306Z</td>\n",
              "      <td>9876</td>\n",
              "      <td>0</td>\n",
              "    </tr>\n",
              "    <tr>\n",
              "      <th>4</th>\n",
              "      <td>2</td>\n",
              "      <td>2014-04-07T13:56:37.614Z</td>\n",
              "      <td>19448</td>\n",
              "      <td>0</td>\n",
              "    </tr>\n",
              "  </tbody>\n",
              "</table>\n",
              "</div>"
            ],
            "text/plain": [
              "   session_id                 timestamp  item_id category\n",
              "0           1  2014-04-07T10:51:09.277Z     2053        0\n",
              "1           1  2014-04-07T10:54:09.868Z     2052        0\n",
              "2           1  2014-04-07T10:54:46.998Z     2054        0\n",
              "3           1  2014-04-07T10:57:00.306Z     9876        0\n",
              "4           2  2014-04-07T13:56:37.614Z    19448        0"
            ]
          },
          "metadata": {
            "tags": []
          },
          "execution_count": 11
        }
      ]
    },
    {
      "cell_type": "code",
      "metadata": {
        "colab": {
          "base_uri": "https://localhost:8080/"
        },
        "id": "pDWM-KCowfKd",
        "outputId": "b6a656cc-0aa9-40f8-c1fe-c018a4e6fd7e"
      },
      "source": [
        "# Sampling as the dataset is HUGE\n",
        "sample_ids = np.random.choice(df.session_id.unique(), 1000000,\n",
        "                              replace = False)\n",
        "\n",
        "df = df.loc[df.session_id.isin(sample_ids)]\n",
        "df.nunique()"
      ],
      "execution_count": 12,
      "outputs": [
        {
          "output_type": "execute_result",
          "data": {
            "text/plain": [
              "session_id    1000000\n",
              "timestamp     3564324\n",
              "item_id         35841\n",
              "category          238\n",
              "dtype: int64"
            ]
          },
          "metadata": {
            "tags": []
          },
          "execution_count": 12
        }
      ]
    },
    {
      "cell_type": "code",
      "metadata": {
        "colab": {
          "base_uri": "https://localhost:8080/",
          "height": 195
        },
        "id": "qSQT7TxNwz6i",
        "outputId": "323c7257-a0e4-493e-cd01-00962cf8171b"
      },
      "source": [
        "# Ground Truth formation\n",
        "\n",
        "df['label'] = df.session_id.isin(buys_df.session_id)\n",
        "df.head()"
      ],
      "execution_count": 13,
      "outputs": [
        {
          "output_type": "execute_result",
          "data": {
            "text/html": [
              "<div>\n",
              "<style scoped>\n",
              "    .dataframe tbody tr th:only-of-type {\n",
              "        vertical-align: middle;\n",
              "    }\n",
              "\n",
              "    .dataframe tbody tr th {\n",
              "        vertical-align: top;\n",
              "    }\n",
              "\n",
              "    .dataframe thead th {\n",
              "        text-align: right;\n",
              "    }\n",
              "</style>\n",
              "<table border=\"1\" class=\"dataframe\">\n",
              "  <thead>\n",
              "    <tr style=\"text-align: right;\">\n",
              "      <th></th>\n",
              "      <th>session_id</th>\n",
              "      <th>timestamp</th>\n",
              "      <th>item_id</th>\n",
              "      <th>category</th>\n",
              "      <th>label</th>\n",
              "    </tr>\n",
              "  </thead>\n",
              "  <tbody>\n",
              "    <tr>\n",
              "      <th>10</th>\n",
              "      <td>3</td>\n",
              "      <td>2014-04-02T13:17:46.940Z</td>\n",
              "      <td>28989</td>\n",
              "      <td>0</td>\n",
              "      <td>False</td>\n",
              "    </tr>\n",
              "    <tr>\n",
              "      <th>11</th>\n",
              "      <td>3</td>\n",
              "      <td>2014-04-02T13:26:02.515Z</td>\n",
              "      <td>35310</td>\n",
              "      <td>0</td>\n",
              "      <td>False</td>\n",
              "    </tr>\n",
              "    <tr>\n",
              "      <th>12</th>\n",
              "      <td>3</td>\n",
              "      <td>2014-04-02T13:30:12.318Z</td>\n",
              "      <td>43178</td>\n",
              "      <td>0</td>\n",
              "      <td>False</td>\n",
              "    </tr>\n",
              "    <tr>\n",
              "      <th>38</th>\n",
              "      <td>13</td>\n",
              "      <td>2014-04-06T14:50:13.638Z</td>\n",
              "      <td>44324</td>\n",
              "      <td>0</td>\n",
              "      <td>False</td>\n",
              "    </tr>\n",
              "    <tr>\n",
              "      <th>39</th>\n",
              "      <td>13</td>\n",
              "      <td>2014-04-06T14:52:54.363Z</td>\n",
              "      <td>22423</td>\n",
              "      <td>0</td>\n",
              "      <td>False</td>\n",
              "    </tr>\n",
              "  </tbody>\n",
              "</table>\n",
              "</div>"
            ],
            "text/plain": [
              "    session_id                 timestamp  item_id category  label\n",
              "10           3  2014-04-02T13:17:46.940Z    28989        0  False\n",
              "11           3  2014-04-02T13:26:02.515Z    35310        0  False\n",
              "12           3  2014-04-02T13:30:12.318Z    43178        0  False\n",
              "38          13  2014-04-06T14:50:13.638Z    44324        0  False\n",
              "39          13  2014-04-06T14:52:54.363Z    22423        0  False"
            ]
          },
          "metadata": {
            "tags": []
          },
          "execution_count": 13
        }
      ]
    },
    {
      "cell_type": "code",
      "metadata": {
        "id": "e8tv8jEjxyHN"
      },
      "source": [
        "# Dataset Creation\n",
        "\n",
        "from tqdm import tqdm\n",
        "import torch\n",
        "from torch_geometric.data import InMemoryDataset\n",
        "\n",
        "class YCDataset(InMemoryDataset):\n",
        "    def __init__(self, root, transform=None, pre_transform=None):\n",
        "        super(YCDataset, self).__init__(root, transform, pre_transform)\n",
        "        self.data, self.slices = torch.load(self.processed_paths[0])\n",
        "\n",
        "    @property\n",
        "    def raw_file_names(self):\n",
        "        return []\n",
        "    @property\n",
        "    def processed_file_names(self):\n",
        "        return ['../input/yoochoose_click_binary_1M_sess.dataset']\n",
        "\n",
        "    def download(self):\n",
        "      pass\n",
        "\n",
        "    def process(self):\n",
        "        \n",
        "        data_list = []\n",
        "\n",
        "        # process by session_id\n",
        "        grouped = df.groupby('session_id')\n",
        "        for session_id, group in grouped:\n",
        "            sess_item_id = LabelEncoder().fit_transform(group.item_id)\n",
        "            group = group.reset_index(drop=True)\n",
        "            group['sess_item_id'] = sess_item_id\n",
        "            node_features = group.loc[group.session_id==session_id,['sess_item_id','item_id']].sort_values('sess_item_id').item_id.drop_duplicates().values\n",
        "\n",
        "            node_features = torch.LongTensor(node_features).unsqueeze(1)\n",
        "            target_nodes = group.sess_item_id.values[1:]\n",
        "            source_nodes = group.sess_item_id.values[:-1]\n",
        "\n",
        "            edge_index = torch.tensor([source_nodes, target_nodes], dtype=torch.long)\n",
        "            x = node_features\n",
        "\n",
        "            y = torch.FloatTensor([group.label.values[0]])\n",
        "\n",
        "            data = Data(x=x, edge_index=edge_index, y=y)\n",
        "            data_list.append(data)\n",
        "        \n",
        "        data, slices = self.collate(data_list)\n",
        "        torch.save((data, slices), self.processed_paths[0])\n",
        "            "
      ],
      "execution_count": 14,
      "outputs": []
    },
    {
      "cell_type": "code",
      "metadata": {
        "id": "NoxNS2dA3OYC"
      },
      "source": [
        "dataset = YCDataset(root='../')"
      ],
      "execution_count": null,
      "outputs": []
    },
    {
      "cell_type": "code",
      "metadata": {
        "id": "anSvtyu-3OOu"
      },
      "source": [
        "dataset = dataset.shuffle()\n",
        "train_ds = dataset[:800000]\n",
        "val_ds = dataset[800000:900000]\n",
        "test_ds = dataset[900000:]"
      ],
      "execution_count": null,
      "outputs": []
    },
    {
      "cell_type": "code",
      "metadata": {
        "id": "Pw_6F0mw408C"
      },
      "source": [
        "# Model -----\n",
        "\n",
        "from torch_geometric.nn import TopKPooling \n",
        "from torch_geometric.nn import global_mean_pool as gap, global_max_pool as gmp\n",
        "import torch.nn.functional as F\n",
        "\n",
        "embed_dim = 128\n",
        "\n",
        "class Net(nn.Module):\n",
        "  def __init__(self):\n",
        "    super(Net, self).__init__()\n",
        "    \n",
        "    self.conv1 = SAGEConv(embed_dim, 128)\n",
        "    self.pool1 = TopKPooling(128, ratio = 0.8)\n",
        "    self.conv2 = SAGEConv(128, 128)\n",
        "    self.pool2 = TopKPooling(128, ratio = 0.8)\n",
        "    self.conv3 = SAGEConv(128, 128)\n",
        "    self.pool3 = TopKPooling(128, ratio = 0.8)  \n",
        "\n",
        "    self.item_embedding = nn.Embedding(\n",
        "        num_embeddings = df.item_id.max() + 1,\n",
        "        embedding_dim = embed_dim\n",
        "    )     \n",
        "\n",
        "    self.linear1 = nn.Linear(256, 128) \n",
        "    self.linear2 = nn.Linear(128, 64) \n",
        "    self.linear3 = nn.Linear(64, 1) \n",
        "\n",
        "    self.bn1 = nn.BatchNorm1d(128)\n",
        "    self.bn2 = nn.BatchNorm1d(64)\n",
        "    self.act1 = nn.ReLU()\n",
        "    self.act2 = nn.ReLU()\n",
        "\n",
        "\n",
        "  def forward(self, data):\n",
        "    x = data.x\n",
        "    edge_index = data.edge_index\n",
        "    batch = data.batch\n",
        "\n",
        "    x = self.item_embedding(x).squeeze(1) \n",
        "    x = self.act1(self.conv1(x, edge_index))\n",
        "    x, edge_index, _, batch, _ = self.pool1(x, edge_index, None, batch)\n",
        "    x1 = torch.cat([gmp(x, batch), gap(x, batch)], dim = 1) \n",
        "\n",
        "    x = self.act1(self.conv2(x, edge_index))\n",
        "    x, edge_index, _, batch, _ = self.pool2(x, edge_index, None, batch)\n",
        "    x2 = torch.cat([gmp(x, batch), gap(x, batch)], dim = 1) \n",
        "\n",
        "    x = self.act1(self.conv3(x, edge_index))\n",
        "    x, edge_index, _, batch, _ = self.pool3(x, edge_index, None, batch)\n",
        "    x3 = torch.cat([gmp(x, batch), gap(x, batch)], dim = 1)     \n",
        "\n",
        "    x = x1 + x2 + x3\n",
        "\n",
        "    x = self.act1(self.linear1(x))  \n",
        "    x = self.act2(self.linear2(x))  \n",
        "    x = F.dropout(x, \n",
        "                  p = 0.5, \n",
        "                  training=self.training)\n",
        "    \n",
        "    x = torch.sigmoid(self.linear3(x)).squeeze(1)\n",
        "    return x\n"
      ],
      "execution_count": null,
      "outputs": []
    },
    {
      "cell_type": "code",
      "metadata": {
        "id": "kfunXbbe402J"
      },
      "source": [
        "device = 'cuda' if torch.cuda.is_available() else 'cpu'\n",
        "model = Net().to(device)\n",
        "optimizer = torch.optim.Adam(model.parameters(), lr = 5e-3)\n",
        "criterion = nn.BCELoss()"
      ],
      "execution_count": null,
      "outputs": []
    },
    {
      "cell_type": "code",
      "metadata": {
        "id": "XRiWzTWB40wl"
      },
      "source": [
        "def train():\n",
        "  model.train();\n",
        "\n",
        "  loss_total = 0.\n",
        "  for data in train_loader:\n",
        "    data = data.to(device)\n",
        "    optimizer.zero_grad()\n",
        "    out = model(data)\n",
        "    label = data.y.to(device)\n",
        "    loss = criterion(out, label)\n",
        "    loss.backward()\n",
        "    loss_total += loss.item() * data.num_graphs\n",
        "    optimizer.step()\n",
        "\n",
        "  return loss_total / len(train_dataset)  "
      ],
      "execution_count": null,
      "outputs": []
    },
    {
      "cell_type": "code",
      "metadata": {
        "id": "psKakcbl40qx"
      },
      "source": [
        "from sklearn.metrics import roc_auc_score\n",
        "\n",
        "def eval(loader):\n",
        "  model.eval();\n",
        "  preds = []\n",
        "  labels = []\n",
        "\n",
        "  with torch.no_grad():\n",
        "    for data in loader:\n",
        "      data = data.to(device)\n",
        "      pred = model(data).detach().cpu().numpy()\n",
        "      label = data.y.detach().cpu().numpy()\n",
        "      preds.append(pred)\n",
        "      labels.append(label)\n",
        "\n",
        "  preds = np.hstack(preds)\n",
        "  labels = np.hstack(labels) \n",
        "\n",
        "  score = roc_auc_score(preds, labels)\n",
        "  return score   "
      ],
      "execution_count": null,
      "outputs": []
    },
    {
      "cell_type": "code",
      "metadata": {
        "id": "CfRxz3mH40nr"
      },
      "source": [
        "for epoch in range(1):\n",
        "  loss = train()\n",
        "  train_auc = eval(train_loader)\n",
        "  val_auc = eval(val_loader)\n",
        "  test_auc = eval(test_loader)\n",
        "  print('Epoch: {:03d}, Loss: {:.5f}, Train Auc: {:.5f}, Val Auc: {:.5f}, Test Auc: {:.5f}'.\n",
        "          format(epoch, loss, train_auc, val_auc, test_auc))"
      ],
      "execution_count": null,
      "outputs": []
    }
  ]
}