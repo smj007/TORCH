{
  "nbformat": 4,
  "nbformat_minor": 0,
  "metadata": {
    "colab": {
      "name": "Integrated Gradients Algorithm - Pytorch",
      "provenance": []
    },
    "kernelspec": {
      "name": "python3",
      "display_name": "Python 3"
    }
  },
  "cells": [
    {
      "cell_type": "code",
      "metadata": {
        "id": "l_RBoWRQhdwt"
      },
      "source": [
        "import numpy as np\n",
        "import pandas as pd "
      ],
      "execution_count": 4,
      "outputs": []
    },
    {
      "cell_type": "code",
      "metadata": {
        "id": "TYAnCakbPrjz"
      },
      "source": [
        "#Sample Dataset building\n",
        "\n",
        "def build_dataset(size):\n",
        "  size_pos = 64\n",
        "  size_neg = 64\n",
        "  size_noise = 64\n",
        "\n",
        "  pos_cols = [\"pos_sample_%s\" % i for i in range(size_pos)]\n",
        "  neg_cols = [\"neg_sample_%s\" % i for i in range(size_neg)]\n",
        "  noise_cols = [\"noise_%s\" % i for i in range(size_noise)]\n",
        "\n",
        "  pos = {i : np.random.uniform(-1, 1, size = size) for i in pos_cols}\n",
        "  neg = {i : np.random.uniform(-1, 1, size = size) for i in neg_cols}\n",
        "  noise = {i : np.random.uniform(-1, 1, size = size) for i in noise_cols}\n",
        "\n",
        "  df = pd.DataFrame({**pos, **neg, **noise})\n",
        "\n",
        "  df[\"target\"] = df.apply(lambda x : sum(\n",
        "            [x[k] * (i+1)/size_pos for i, k in enumerate(pos_cols)] + \n",
        "            [-x[k] * (i+1)/size_neg for i, k in enumerate(neg_cols)], axis = 1)\n",
        "  )\n",
        "\n",
        "  coefs = [(i+1)/size_pos for i in range(size_pos)] + [-(i+1)/size_neg for i in range(size_neg)] + [0 for i in range(size_noise)]\n",
        "\n",
        "  return np.array(df[pos_cols + neg_cols + noise_cols]), np.array(df[\"target\"]), coefs"
      ],
      "execution_count": 7,
      "outputs": []
    },
    {
      "cell_type": "code",
      "metadata": {
        "id": "Az_-_c8XPuXM"
      },
      "source": [
        "cols, target, coefs = build_dataset(128)"
      ],
      "execution_count": null,
      "outputs": []
    },
    {
      "cell_type": "code",
      "metadata": {
        "id": "Xp3us31_SDa4"
      },
      "source": [
        "def integrated_grads(batch, batch_base, model): #model is a regressor to fit x,y\n",
        "  mean_grad = 0 #integral is calculated by y_val of gradient * x (1/n)\n",
        "  n = 100\n",
        "\n",
        "  for i in range(1, n+1):\n",
        "    x = batch_base + (batch - batch_base) * (i/n)\n",
        "    x.requires_grad = True\n",
        "    y_val = model(x)\n",
        "    (grad, _) = torch.autograd.grad(y_val, x)\n",
        "    mean_grad += grad * (1/n)\n",
        "\n",
        "  integrated_gradients = (batch - batch_base) * mean_grad\n",
        "\n",
        "  return integrated_gradients, mean_grad  "
      ],
      "execution_count": null,
      "outputs": []
    }
  ]
}