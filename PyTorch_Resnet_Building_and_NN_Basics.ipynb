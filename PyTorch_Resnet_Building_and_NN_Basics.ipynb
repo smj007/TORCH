{
  "nbformat": 4,
  "nbformat_minor": 0,
  "metadata": {
    "colab": {
      "name": "PyTorch - Resnet Building and NN Basics",
      "provenance": [],
      "collapsed_sections": []
    },
    "kernelspec": {
      "name": "python3",
      "display_name": "Python 3"
    }
  },
  "cells": [
    {
      "cell_type": "code",
      "metadata": {
        "id": "1PRXwt5F2m8x"
      },
      "source": [
        "#experimenting with torch first\n",
        "\n",
        "\n",
        "import torch\n",
        "import torch.nn as nn\n",
        "\n",
        "class CNNClassifier(nn.Module):\n",
        "\n",
        "  def __init__(self, in_channels, n_classes):\n",
        "    super().__init__()\n",
        "    self.conv_block1 = nn.Sequential(\n",
        "        nn.Conv2d(in_channels, 32, kernel_size = 3, stride = 1, padding = 1),\n",
        "        nn.BatchNorm2d(32),\n",
        "        nn.ReLU()\n",
        "    )\n",
        "\n",
        "    self.conv_block2 = nn.Sequential(\n",
        "        nn.Conv2d(32, 64, kernel_size = 1, stride = 1, padding = 1),\n",
        "        nn.BatchNorm2d(32),\n",
        "        nn.ReLU()\n",
        "    )\n",
        "\n",
        "    self.decoder = nn.Sequential(\n",
        "        nn.Linear(32 * 28 * 28, 1024),\n",
        "        nn.Sigmoid(),\n",
        "        nn.Linear(1024, n_classes)\n",
        "    )\n",
        "\n",
        "\n",
        "  def forward(self, x):\n",
        "    x = self.conv_block1(x)\n",
        "    x = self.conv_block2(x)\n",
        "    x = x.view(x.size(0), -1)\n",
        "\n",
        "    x = self.decoder(x)\n",
        "    return x  "
      ],
      "execution_count": 2,
      "outputs": []
    },
    {
      "cell_type": "code",
      "metadata": {
        "colab": {
          "base_uri": "https://localhost:8080/"
        },
        "id": "zzfc8AuA8i82",
        "outputId": "b7de6a1b-0460-48fb-c58d-a2a1c2471369"
      },
      "source": [
        "model = CNNClassifier(1, 10)\n",
        "print(model)"
      ],
      "execution_count": 3,
      "outputs": [
        {
          "output_type": "stream",
          "text": [
            "CNNClassifier(\n",
            "  (conv_block1): Sequential(\n",
            "    (0): Conv2d(1, 32, kernel_size=(3, 3), stride=(1, 1), padding=(1, 1))\n",
            "    (1): BatchNorm2d(32, eps=1e-05, momentum=0.1, affine=True, track_running_stats=True)\n",
            "    (2): ReLU()\n",
            "  )\n",
            "  (conv_block2): Sequential(\n",
            "    (0): Conv2d(32, 64, kernel_size=(1, 1), stride=(1, 1), padding=(1, 1))\n",
            "    (1): BatchNorm2d(32, eps=1e-05, momentum=0.1, affine=True, track_running_stats=True)\n",
            "    (2): ReLU()\n",
            "  )\n",
            "  (decoder): Sequential(\n",
            "    (0): Linear(in_features=25088, out_features=1024, bias=True)\n",
            "    (1): Sigmoid()\n",
            "    (2): Linear(in_features=1024, out_features=10, bias=True)\n",
            "  )\n",
            ")\n"
          ],
          "name": "stdout"
        }
      ]
    },
    {
      "cell_type": "code",
      "metadata": {
        "colab": {
          "base_uri": "https://localhost:8080/"
        },
        "id": "FECUkyNx8pQz",
        "outputId": "0cec58f1-27cb-4e61-83b1-0774a64a4f7d"
      },
      "source": [
        "# function for the conv block\n",
        "\n",
        "def conv_block(in_c, out_c, *args, **kwargs):\n",
        "  return nn.Sequential(\n",
        "      nn.Conv2d(in_c, out_c, *args, **kwargs),\n",
        "      nn.BatchNorm2d(out_c),\n",
        "      nn.ReLU()\n",
        "  )\n",
        "\n",
        "\n",
        "class New_CNNClassifier(nn.Module):\n",
        "\n",
        "  def __init__(self, in_channels, n_classes):\n",
        "    super().__init__()\n",
        "    self.conv_block1 = conv_block(in_channels, 32, kernel_size = 3, padding = 1)\n",
        "\n",
        "    self.conv_block2 = conv_block(32, 64, kernel_size = 3, padding = 1)\n",
        "\n",
        "    self.decoder = nn.Sequential(\n",
        "        nn.Linear(32 * 28 * 28, 1024),\n",
        "        nn.Sigmoid(),\n",
        "        nn.Linear(1024, n_classes)\n",
        "    )\n",
        "\n",
        "\n",
        "  def forward(self, x):\n",
        "    x = self.conv_block1(x)\n",
        "    x = self.conv_block2(x)\n",
        "    x = x.view(x.size(0), -1)\n",
        "\n",
        "    x = self.decoder(x)\n",
        "    return x  \n",
        "\n",
        "model = New_CNNClassifier(1, 10)\n",
        "print(model)"
      ],
      "execution_count": 4,
      "outputs": [
        {
          "output_type": "stream",
          "text": [
            "New_CNNClassifier(\n",
            "  (conv_block1): Sequential(\n",
            "    (0): Conv2d(1, 32, kernel_size=(3, 3), stride=(1, 1), padding=(1, 1))\n",
            "    (1): BatchNorm2d(32, eps=1e-05, momentum=0.1, affine=True, track_running_stats=True)\n",
            "    (2): ReLU()\n",
            "  )\n",
            "  (conv_block2): Sequential(\n",
            "    (0): Conv2d(32, 64, kernel_size=(3, 3), stride=(1, 1), padding=(1, 1))\n",
            "    (1): BatchNorm2d(64, eps=1e-05, momentum=0.1, affine=True, track_running_stats=True)\n",
            "    (2): ReLU()\n",
            "  )\n",
            "  (decoder): Sequential(\n",
            "    (0): Linear(in_features=25088, out_features=1024, bias=True)\n",
            "    (1): Sigmoid()\n",
            "    (2): Linear(in_features=1024, out_features=10, bias=True)\n",
            "  )\n",
            ")\n"
          ],
          "name": "stdout"
        }
      ]
    },
    {
      "cell_type": "code",
      "metadata": {
        "colab": {
          "base_uri": "https://localhost:8080/"
        },
        "id": "ykc_SEj997G7",
        "outputId": "639ab920-019b-4621-ce78-b097b2300477"
      },
      "source": [
        "#even more compaction in the layers\n",
        "\n",
        "class New_CNNClassifier(nn.Module):\n",
        "\n",
        "  def __init__(self, in_channels, n_classes):\n",
        "    super().__init__()\n",
        "    self.encoder = nn.Sequential(\n",
        "        conv_block(in_channels, 32, kernel_size = 3, padding = 1),\n",
        "        conv_block(32, 64, kernel_size = 3, padding = 1)\n",
        "    )\n",
        "\n",
        "    self.decoder = nn.Sequential(\n",
        "        nn.Linear(32 * 28 * 28, 1024),\n",
        "        nn.Sigmoid(),\n",
        "        nn.Linear(1024, n_classes)\n",
        "    )\n",
        "\n",
        "\n",
        "  def forward(self, x):\n",
        "    x = self.encoder(x)\n",
        "    \n",
        "    x = x.view(x.size(0), -1)\n",
        "\n",
        "    x = self.decoder(x)\n",
        "    return x  \n",
        "\n",
        "model = New_CNNClassifier(1, 10)\n",
        "print(model)"
      ],
      "execution_count": 6,
      "outputs": [
        {
          "output_type": "stream",
          "text": [
            "New_CNNClassifier(\n",
            "  (encoder): Sequential(\n",
            "    (0): Sequential(\n",
            "      (0): Conv2d(1, 32, kernel_size=(3, 3), stride=(1, 1), padding=(1, 1))\n",
            "      (1): BatchNorm2d(32, eps=1e-05, momentum=0.1, affine=True, track_running_stats=True)\n",
            "      (2): ReLU()\n",
            "    )\n",
            "    (1): Sequential(\n",
            "      (0): Conv2d(32, 64, kernel_size=(3, 3), stride=(1, 1), padding=(1, 1))\n",
            "      (1): BatchNorm2d(64, eps=1e-05, momentum=0.1, affine=True, track_running_stats=True)\n",
            "      (2): ReLU()\n",
            "    )\n",
            "  )\n",
            "  (decoder): Sequential(\n",
            "    (0): Linear(in_features=25088, out_features=1024, bias=True)\n",
            "    (1): Sigmoid()\n",
            "    (2): Linear(in_features=1024, out_features=10, bias=True)\n",
            "  )\n",
            ")\n"
          ],
          "name": "stdout"
        }
      ]
    },
    {
      "cell_type": "code",
      "metadata": {
        "id": "bHjlGQY2-1w0"
      },
      "source": [
        "### If we want to add new layers in the network --- such as\n",
        "\n",
        "###############\n",
        "\n",
        "encoder = nn.Sequential(\n",
        "    conv_block(1, 32, kernel_size = 3, padding = 1),\n",
        "    conv_block(32, 64, kernel_size = 3, padding = 1),\n",
        "    conv_block(64, 128, kernel_size = 3, padding = 1),\n",
        "    conv_block(128, 256, kernel_size = 3, padding = 1)\n",
        ")\n",
        "\n",
        "###############"
      ],
      "execution_count": 8,
      "outputs": []
    },
    {
      "cell_type": "code",
      "metadata": {
        "colab": {
          "base_uri": "https://localhost:8080/"
        },
        "id": "aE4tS7QZ_7bn",
        "outputId": "84a2ff34-07e0-40b7-b7db-376bea2d8e83"
      },
      "source": [
        "#passing the layers as a list to sequential operator\n",
        "\n",
        "class ListCNN(nn.Module):\n",
        "  def __init__(self, in_c, n_classes):\n",
        "    super().__init__()\n",
        "    self.sizes = [in_c, 32, 64]\n",
        "\n",
        "    conv_blocks = [conv_block(in_c, out_c, kernel_size = 3, padding = 1)\n",
        "                  for in_c, out_c in zip(self.sizes, self.sizes[1:])]\n",
        "\n",
        "    self.encoder = nn.Sequential(*conv_blocks)\n",
        "    self.decoder = nn.Sequential(\n",
        "        nn.Linear(32 * 28 * 28, 1024),\n",
        "        nn.Sigmoid(),\n",
        "        nn.Linear(1024, n_classes)\n",
        "    )              \n",
        "\n",
        "\n",
        "  def forward(self, x):\n",
        "    x = self.encoder(x)\n",
        "    x = x.view(x.size(0), -1)  \n",
        "    x = self.decoder(x)\n",
        "\n",
        "\n",
        "    return x\n",
        "\n",
        "\n",
        "model = ListCNN(1, 10)\n",
        "print(model)    "
      ],
      "execution_count": 11,
      "outputs": [
        {
          "output_type": "stream",
          "text": [
            "ListCNN(\n",
            "  (encoder): Sequential(\n",
            "    (0): Sequential(\n",
            "      (0): Conv2d(1, 32, kernel_size=(3, 3), stride=(1, 1), padding=(1, 1))\n",
            "      (1): BatchNorm2d(32, eps=1e-05, momentum=0.1, affine=True, track_running_stats=True)\n",
            "      (2): ReLU()\n",
            "    )\n",
            "    (1): Sequential(\n",
            "      (0): Conv2d(32, 64, kernel_size=(3, 3), stride=(1, 1), padding=(1, 1))\n",
            "      (1): BatchNorm2d(64, eps=1e-05, momentum=0.1, affine=True, track_running_stats=True)\n",
            "      (2): ReLU()\n",
            "    )\n",
            "  )\n",
            "  (decoder): Sequential(\n",
            "    (0): Linear(in_features=25088, out_features=1024, bias=True)\n",
            "    (1): Sigmoid()\n",
            "    (2): Linear(in_features=1024, out_features=10, bias=True)\n",
            "  )\n",
            ")\n"
          ],
          "name": "stdout"
        }
      ]
    },
    {
      "cell_type": "code",
      "metadata": {
        "colab": {
          "base_uri": "https://localhost:8080/"
        },
        "id": "Dr6a79iECUxk",
        "outputId": "521413b3-ec49-4312-fcfd-cc0c639abb5e"
      },
      "source": [
        "#### this is easy to add a new layer if we need to \n",
        "\n",
        "# pass in a new size in the sizes argument\n",
        "\n",
        "class ListCNN(nn.Module):\n",
        "  def __init__(self, in_c, n_classes, sizes):\n",
        "    super().__init__()\n",
        "    self.e_sizes = [in_c, *sizes]\n",
        "\n",
        "    conv_blocks = [conv_block(in_c, out_c, kernel_size = 3, padding = 1)\n",
        "                  for in_c, out_c in zip(self.e_sizes, self.e_sizes[1:])]\n",
        "\n",
        "    self.encoder = nn.Sequential(*conv_blocks)\n",
        "    self.decoder = nn.Sequential(\n",
        "        nn.Linear(32 * 28 * 28, 1024),\n",
        "        nn.Sigmoid(),\n",
        "        nn.Linear(1024, n_classes)\n",
        "    )              \n",
        "\n",
        "\n",
        "  def forward(self, x):\n",
        "    x = self.encoder(x)\n",
        "    x = x.view(x.size(0), -1)  \n",
        "    x = self.decoder(x)\n",
        "\n",
        "\n",
        "    return x\n",
        "\n",
        "\n",
        "model = ListCNN(1, 10, [32, 64, 128])\n",
        "print(model) "
      ],
      "execution_count": 12,
      "outputs": [
        {
          "output_type": "stream",
          "text": [
            "ListCNN(\n",
            "  (encoder): Sequential(\n",
            "    (0): Sequential(\n",
            "      (0): Conv2d(1, 32, kernel_size=(3, 3), stride=(1, 1), padding=(1, 1))\n",
            "      (1): BatchNorm2d(32, eps=1e-05, momentum=0.1, affine=True, track_running_stats=True)\n",
            "      (2): ReLU()\n",
            "    )\n",
            "    (1): Sequential(\n",
            "      (0): Conv2d(32, 64, kernel_size=(3, 3), stride=(1, 1), padding=(1, 1))\n",
            "      (1): BatchNorm2d(64, eps=1e-05, momentum=0.1, affine=True, track_running_stats=True)\n",
            "      (2): ReLU()\n",
            "    )\n",
            "    (2): Sequential(\n",
            "      (0): Conv2d(64, 128, kernel_size=(3, 3), stride=(1, 1), padding=(1, 1))\n",
            "      (1): BatchNorm2d(128, eps=1e-05, momentum=0.1, affine=True, track_running_stats=True)\n",
            "      (2): ReLU()\n",
            "    )\n",
            "  )\n",
            "  (decoder): Sequential(\n",
            "    (0): Linear(in_features=25088, out_features=1024, bias=True)\n",
            "    (1): Sigmoid()\n",
            "    (2): Linear(in_features=1024, out_features=10, bias=True)\n",
            "  )\n",
            ")\n"
          ],
          "name": "stdout"
        }
      ]
    },
    {
      "cell_type": "code",
      "metadata": {
        "id": "b38OAtZNDHj7"
      },
      "source": [
        "### making the decoder also into a block\n",
        "\n",
        "def decoder_block(in_c, out_c):\n",
        "  return nn.Sequential(\n",
        "      nn.Linear(in_c, out_c),\n",
        "      nn.Sigmoid()\n",
        "  )\n",
        "\n",
        "\n",
        "class NewListCNN(nn.Module):\n",
        "  def __init__(self, in_c, enc_sizes, dec_sizes, n_classes):\n",
        "    super().__init__()\n",
        "    self.enc_sizes = [in_c, *enc_sizes] \n",
        "    self.dec_sizes = [32*28*28, *dec_sizes]\n",
        "\n",
        "    conv_blocks = [conv_block(in_c, out_c, kernel_size = 3, padding = 1)\n",
        "                  for in_c, out_c in zip(self.enc_sizes, self.enc_sizes[1:])]\n",
        "\n",
        "    self.encoder = nn.Sequential(*conv_blocks)\n",
        "\n",
        "    dec_blocks = [decoder_block(in_c, out_c)\n",
        "                  for in_c, out_c in zip(self.dec_sizes, self.dec_sizes[1:])]\n",
        "\n",
        "    self.decoder = nn.Sequential(*dec_blocks)\n",
        "\n",
        "    self.final = nn.Linear(self.dec_sizes[-1], n_classes)\n",
        "\n",
        "\n",
        "  def forward(self, x):\n",
        "\n",
        "    x = self.encoder(x)\n",
        "    x = x.view(x.size(0), -1)\n",
        "    x = self.decoder(x)\n",
        "\n",
        "    return x                  "
      ],
      "execution_count": 15,
      "outputs": []
    },
    {
      "cell_type": "code",
      "metadata": {
        "colab": {
          "base_uri": "https://localhost:8080/"
        },
        "id": "WvaQFvsDFaVF",
        "outputId": "4378a7f6-eaf0-4ec0-fd4e-3953a454499f"
      },
      "source": [
        "model = NewListCNN(1, [32, 64], [1024, 512], 10)\n",
        "print(model)"
      ],
      "execution_count": 16,
      "outputs": [
        {
          "output_type": "stream",
          "text": [
            "NewListCNN(\n",
            "  (encoder): Sequential(\n",
            "    (0): Sequential(\n",
            "      (0): Conv2d(1, 32, kernel_size=(3, 3), stride=(1, 1), padding=(1, 1))\n",
            "      (1): BatchNorm2d(32, eps=1e-05, momentum=0.1, affine=True, track_running_stats=True)\n",
            "      (2): ReLU()\n",
            "    )\n",
            "    (1): Sequential(\n",
            "      (0): Conv2d(32, 64, kernel_size=(3, 3), stride=(1, 1), padding=(1, 1))\n",
            "      (1): BatchNorm2d(64, eps=1e-05, momentum=0.1, affine=True, track_running_stats=True)\n",
            "      (2): ReLU()\n",
            "    )\n",
            "  )\n",
            "  (decoder): Sequential(\n",
            "    (0): Sequential(\n",
            "      (0): Linear(in_features=25088, out_features=1024, bias=True)\n",
            "      (1): Sigmoid()\n",
            "    )\n",
            "    (1): Sequential(\n",
            "      (0): Linear(in_features=1024, out_features=512, bias=True)\n",
            "      (1): Sigmoid()\n",
            "    )\n",
            "  )\n",
            "  (final): Linear(in_features=512, out_features=10, bias=True)\n",
            ")\n"
          ],
          "name": "stdout"
        }
      ]
    },
    {
      "cell_type": "code",
      "metadata": {
        "id": "AI3NFkbCFpN0"
      },
      "source": [
        "\n",
        "class MyEncoder(nn.Module):\n",
        "    def __init__(self, enc_sizes):\n",
        "        super().__init__()\n",
        "        self.conv_blocks = nn.Sequential(*[conv_block(in_f, out_f, kernel_size=3, padding=1) \n",
        "                       for in_f, out_f in zip(enc_sizes, enc_sizes[1:])])\n",
        "\n",
        "        def forward(self, x):\n",
        "            return self.conv_blocks(x)\n",
        "        \n",
        "class MyDecoder(nn.Module):\n",
        "    def __init__(self, dec_sizes, n_classes):\n",
        "        super().__init__()\n",
        "        self.dec_blocks = nn.Sequential(*[decoder_block(in_f, out_f) \n",
        "                       for in_f, out_f in zip(dec_sizes, dec_sizes[1:])])\n",
        "        self.last = nn.Linear(dec_sizes[-1], n_classes)\n",
        "\n",
        "    def forward(self, x):\n",
        "        return self.dec_blocks(x)\n",
        "    \n",
        "    \n",
        "class MyCNNClassifier(nn.Module):\n",
        "    def __init__(self, in_c, enc_sizes, dec_sizes,  n_classes):\n",
        "        super().__init__()\n",
        "        self.enc_sizes = [in_c, *enc_sizes]\n",
        "        self.dec_sizes = [32 * 28 * 28, *dec_sizes]\n",
        "\n",
        "        self.encoder = MyEncoder(self.enc_sizes)\n",
        "        \n",
        "        self.decoder = MyDecoder(self.dec_sizes, n_classes)\n",
        "        \n",
        "    def forward(self, x):\n",
        "        x = self.encoder(x)\n",
        "        \n",
        "        x = x.flatten(x.size(0), -1) # flat\n",
        "        \n",
        "        x = self.decoder(x)\n",
        "        \n",
        "        return x"
      ],
      "execution_count": 27,
      "outputs": []
    },
    {
      "cell_type": "code",
      "metadata": {
        "colab": {
          "base_uri": "https://localhost:8080/"
        },
        "id": "g01GVcWNIVTB",
        "outputId": "1a0ae462-58cd-41cb-a7ac-d6a63ebce832"
      },
      "source": [
        "model = MyCNNClassifier(1, [32,64], [1024, 512], 10)\n",
        "print(model)"
      ],
      "execution_count": 28,
      "outputs": [
        {
          "output_type": "stream",
          "text": [
            "MyCNNClassifier(\n",
            "  (encoder): MyEncoder(\n",
            "    (conv_blocks): Sequential(\n",
            "      (0): Sequential(\n",
            "        (0): Conv2d(1, 32, kernel_size=(3, 3), stride=(1, 1), padding=(1, 1))\n",
            "        (1): BatchNorm2d(32, eps=1e-05, momentum=0.1, affine=True, track_running_stats=True)\n",
            "        (2): ReLU()\n",
            "      )\n",
            "      (1): Sequential(\n",
            "        (0): Conv2d(32, 64, kernel_size=(3, 3), stride=(1, 1), padding=(1, 1))\n",
            "        (1): BatchNorm2d(64, eps=1e-05, momentum=0.1, affine=True, track_running_stats=True)\n",
            "        (2): ReLU()\n",
            "      )\n",
            "    )\n",
            "  )\n",
            "  (decoder): MyDecoder(\n",
            "    (dec_blocks): Sequential(\n",
            "      (0): Sequential(\n",
            "        (0): Linear(in_features=25088, out_features=1024, bias=True)\n",
            "        (1): Sigmoid()\n",
            "      )\n",
            "      (1): Sequential(\n",
            "        (0): Linear(in_features=1024, out_features=512, bias=True)\n",
            "        (1): Sigmoid()\n",
            "      )\n",
            "    )\n",
            "    (last): Linear(in_features=512, out_features=10, bias=True)\n",
            "  )\n",
            ")\n"
          ],
          "name": "stdout"
        }
      ]
    },
    {
      "cell_type": "code",
      "metadata": {
        "id": "UXMrgFCKIW45"
      },
      "source": [
        "class MyModule(nn.Module):\n",
        "  def __init__(self, sizes):\n",
        "    super().__init__()\n",
        "    self.layers = nn.ModuleList([nn.Linear(in_c, out_c)\n",
        "                                  for in_c, out_c in zip(sizes, sizes[1:])])\n",
        "    \n",
        "    self.cache = []\n",
        "\n",
        "\n",
        "  def forward(self, x):\n",
        "   for layer in self.layers:\n",
        "     x = layer(x)\n",
        "     self.cache.append(x)\n",
        "\n",
        "   return x     "
      ],
      "execution_count": 30,
      "outputs": []
    },
    {
      "cell_type": "code",
      "metadata": {
        "colab": {
          "base_uri": "https://localhost:8080/"
        },
        "id": "a5_bsGTON6dQ",
        "outputId": "378c026e-97b7-406c-b528-f215d9d010e0"
      },
      "source": [
        "model = MyModule([1, 16, 32])\n",
        "inputs = torch.rand((4, 1))\n",
        "out = model(inputs)\n",
        "\n",
        "[print(cache.shape) for cache in model.cache]"
      ],
      "execution_count": 31,
      "outputs": [
        {
          "output_type": "stream",
          "text": [
            "torch.Size([4, 16])\n",
            "torch.Size([4, 32])\n"
          ],
          "name": "stdout"
        },
        {
          "output_type": "execute_result",
          "data": {
            "text/plain": [
              "[None, None]"
            ]
          },
          "metadata": {
            "tags": []
          },
          "execution_count": 31
        }
      ]
    },
    {
      "cell_type": "code",
      "metadata": {
        "id": "AakLMaF5OUmF"
      },
      "source": [
        "def conv_block(in_c, out_c, activation = 'relu', *args, **kwargs):\n",
        "\n",
        "  activations = nn.ModuleDict([\n",
        "                               ['lrelu', nn.LeakyReLU()],\n",
        "                               ['relu', nn.ReLU()]\n",
        "  ])\n",
        "\n",
        "  return nn.Sequential(\n",
        "      nn.Conv2d(in_c, out_c, *args, **kwargs),\n",
        "      nn.BatchNorm2d(out_c),\n",
        "      activations[activation]\n",
        "  )\n",
        "\n",
        "  model1 = conv_block(1, 32, 'lrelu', kernel_size = 3, padding = 1)\n",
        "  model2 = conv_block(1, 32, 'relu', kernel_size = 3, padding = 1)\n",
        "\n",
        "  print(model1, model2)"
      ],
      "execution_count": null,
      "outputs": []
    }
  ]
}