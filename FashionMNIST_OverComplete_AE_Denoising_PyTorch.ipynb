{
  "nbformat": 4,
  "nbformat_minor": 0,
  "metadata": {
    "colab": {
      "name": "FashionMNIST - OverComplete AE - Denoising - PyTorch",
      "provenance": [],
      "collapsed_sections": []
    },
    "kernelspec": {
      "name": "python3",
      "display_name": "Python 3"
    },
    "accelerator": "GPU"
  },
  "cells": [
    {
      "cell_type": "code",
      "metadata": {
        "id": "75ONyeaRb-nm",
        "colab_type": "code",
        "colab": {}
      },
      "source": [
        "import torch\n",
        "import torch.nn as nn\n",
        "import torch.nn.functional as F\n",
        "from torchvision import transforms, datasets\n",
        "import matplotlib.pyplot as plt\n",
        "import numpy as np\n",
        "%matplotlib inline"
      ],
      "execution_count": 17,
      "outputs": []
    },
    {
      "cell_type": "code",
      "metadata": {
        "id": "e7XZ1tuKd9F9",
        "colab_type": "code",
        "colab": {}
      },
      "source": [
        "figsize = (15, 6)\n",
        "\n",
        "train_dataset = datasets.FashionMNIST(root='./data',\n",
        "                                   train=True,\n",
        "                                   transform=transforms.ToTensor(),\n",
        "                                   download=True)\n",
        "\n",
        "test_dataset = datasets.FashionMNIST(root='./data',\n",
        "                                  train=False,\n",
        "                                  transform=transforms.ToTensor())"
      ],
      "execution_count": 18,
      "outputs": []
    },
    {
      "cell_type": "code",
      "metadata": {
        "id": "rxd_U7oTeMwz",
        "colab_type": "code",
        "colab": {
          "base_uri": "https://localhost:8080/",
          "height": 34
        },
        "outputId": "accd0ace-0ca9-4fbc-9738-bed7d4df81e4"
      },
      "source": [
        "len(train_dataset)"
      ],
      "execution_count": 19,
      "outputs": [
        {
          "output_type": "execute_result",
          "data": {
            "text/plain": [
              "60000"
            ]
          },
          "metadata": {
            "tags": []
          },
          "execution_count": 19
        }
      ]
    },
    {
      "cell_type": "code",
      "metadata": {
        "id": "is9BamvJeX0K",
        "colab_type": "code",
        "colab": {}
      },
      "source": [
        "batch_size = 100\n",
        "n_iters = 5000\n",
        "num_epochs = n_iters / (len(train_dataset) / batch_size)\n",
        "num_epochs = int(num_epochs)\n",
        "\n",
        "train_loader = torch.utils.data.DataLoader(dataset=train_dataset, \n",
        "                                           batch_size=batch_size, \n",
        "                                           shuffle=True)\n",
        "\n",
        "test_loader = torch.utils.data.DataLoader(dataset=test_dataset, \n",
        "                                          batch_size=batch_size, \n",
        "                                          shuffle=False)"
      ],
      "execution_count": 20,
      "outputs": []
    },
    {
      "cell_type": "code",
      "metadata": {
        "id": "ZxLLtTg0epQU",
        "colab_type": "code",
        "colab": {
          "base_uri": "https://localhost:8080/",
          "height": 300
        },
        "outputId": "3fad85ef-1845-4e1a-e66e-65b5b7ef305a"
      },
      "source": [
        "#Sample of a shirt\n",
        "sample = 1\n",
        "image = train_dataset[sample][0].numpy().reshape(28, 28)\n",
        "label = train_dataset[sample][1]\n",
        "print(\"Label is: \", label)\n",
        "plt.imshow(image, cmap = 'gray')"
      ],
      "execution_count": 21,
      "outputs": [
        {
          "output_type": "stream",
          "text": [
            "Label is:  0\n"
          ],
          "name": "stdout"
        },
        {
          "output_type": "execute_result",
          "data": {
            "text/plain": [
              "<matplotlib.image.AxesImage at 0x7fdb5948f0b8>"
            ]
          },
          "metadata": {
            "tags": []
          },
          "execution_count": 21
        },
        {
          "output_type": "display_data",
          "data": {
            "image/png": "[encoded data removed]",
            "text/plain": [
              "<Figure size 432x288 with 1 Axes>"
            ]
          },
          "metadata": {
            "tags": [],
            "needs_background": "light"
          }
        }
      ]
    },
    {
      "cell_type": "code",
      "metadata": {
        "id": "jjXT88YKe8mB",
        "colab_type": "code",
        "colab": {
          "base_uri": "https://localhost:8080/",
          "height": 300
        },
        "outputId": "010f3135-479f-4b7b-b7f9-cc87c9212044"
      },
      "source": [
        "#Sample of a ankle boot\n",
        "sample = 8\n",
        "image = train_dataset[sample][0].numpy().reshape(28, 28)\n",
        "label = train_dataset[sample][1]\n",
        "print(\"Label is: \", label)\n",
        "plt.imshow(image, cmap = 'gray')"
      ],
      "execution_count": 22,
      "outputs": [
        {
          "output_type": "stream",
          "text": [
            "Label is:  5\n"
          ],
          "name": "stdout"
        },
        {
          "output_type": "execute_result",
          "data": {
            "text/plain": [
              "<matplotlib.image.AxesImage at 0x7fdb593ec160>"
            ]
          },
          "metadata": {
            "tags": []
          },
          "execution_count": 22
        },
        {
          "output_type": "display_data",
          "data": {
            "image/png": "[encoded data removed]",
            "text/plain": [
              "<Figure size 432x288 with 1 Axes>"
            ]
          },
          "metadata": {
            "tags": [],
            "needs_background": "light"
          }
        }
      ]
    },
    {
      "cell_type": "code",
      "metadata": {
        "id": "HWC2OYZ0gPGm",
        "colab_type": "code",
        "colab": {
          "base_uri": "https://localhost:8080/",
          "height": 52
        },
        "outputId": "8cd452ac-d30f-48cc-f752-fc9e08dceca2"
      },
      "source": [
        "#pixel vals in an image\n",
        "min_value = train_dataset[sample][0].min()\n",
        "max_value = train_dataset[sample][0].max()\n",
        "print(\"Min Pixel Value: \", min_value)\n",
        "print(\"Max Pixel Value: \", max_value)"
      ],
      "execution_count": 23,
      "outputs": [
        {
          "output_type": "stream",
          "text": [
            "Min Pixel Value:  tensor(0.)\n",
            "Max Pixel Value:  tensor(1.)\n"
          ],
          "name": "stdout"
        }
      ]
    },
    {
      "cell_type": "code",
      "metadata": {
        "id": "KCqf4jHag2sL",
        "colab_type": "code",
        "colab": {
          "base_uri": "https://localhost:8080/",
          "height": 392
        },
        "outputId": "40b8dac8-f592-45a8-a6af-41f27857b35b"
      },
      "source": [
        "# here we will use an activation called sigmoid\n",
        "\n",
        "x = torch.arange(-10., 10., 0.1)\n",
        "plt.figure(figsize=figsize);\n",
        "plt.plot(x.numpy(), torch.sigmoid(x).numpy())\n",
        "plt.grid('on')\n",
        "plt.title('Sigmoid Function')"
      ],
      "execution_count": 24,
      "outputs": [
        {
          "output_type": "execute_result",
          "data": {
            "text/plain": [
              "Text(0.5, 1.0, 'Sigmoid Function')"
            ]
          },
          "metadata": {
            "tags": []
          },
          "execution_count": 24
        },
        {
          "output_type": "display_data",
          "data": {
            "image/png": "[encoded data removed]",
            "text/plain": [
              "<Figure size 1080x432 with 1 Axes>"
            ]
          },
          "metadata": {
            "tags": [],
            "needs_background": "light"
          }
        }
      ]
    },
    {
      "cell_type": "code",
      "metadata": {
        "id": "TdQnyESvhKvj",
        "colab_type": "code",
        "colab": {}
      },
      "source": [
        "class FCAutoEncoder(nn.Module):\n",
        "    def __init__(self, input_dim, hidden_dim, output_dim):\n",
        "        super().__init__()\n",
        "        # Encoder: affine function  (wx + b)\n",
        "        self.fc1 = nn.Linear(input_dim, hidden_dim)\n",
        "        # Decoder: affine function\n",
        "        self.fc2 = nn.Linear(hidden_dim, output_dim)\n",
        "\n",
        "    def forward(self, x):\n",
        "        # Encoder: affine function\n",
        "        out = self.fc1(x)\n",
        "        # Encoder: non-linear function\n",
        "        out = F.leaky_relu(out)\n",
        "\n",
        "        # Decoder: affine function\n",
        "        out = self.fc2(out)\n",
        "        # Decoder: non-linear function\n",
        "        out = torch.sigmoid(out)\n",
        "        \n",
        "        return out"
      ],
      "execution_count": 25,
      "outputs": []
    },
    {
      "cell_type": "code",
      "metadata": {
        "id": "0e-XyDtxhsny",
        "colab_type": "code",
        "colab": {}
      },
      "source": [
        "#in overcomplete AE, we force the hidden layer to pick important features since some of the ip nodes which are noised here are useless to copy info from\n",
        "\n",
        "input_dim = 28 * 28\n",
        "hidden_dim = int(input_dim * 1.5)\n",
        "output_dim = input_dim\n",
        "\n",
        "model = FCAutoEncoder(input_dim, hidden_dim, output_dim)"
      ],
      "execution_count": 26,
      "outputs": []
    },
    {
      "cell_type": "code",
      "metadata": {
        "id": "nGcj7lUvvX9n",
        "colab_type": "code",
        "colab": {}
      },
      "source": [
        "criterion = nn.MSELoss()\n",
        "learning_rate = 1e-3\n",
        "optimizer = torch.optim.Adam(model.parameters(), lr = learning_rate)"
      ],
      "execution_count": 27,
      "outputs": []
    },
    {
      "cell_type": "code",
      "metadata": {
        "id": "sn3ACuxgvqVz",
        "colab_type": "code",
        "colab": {
          "base_uri": "https://localhost:8080/",
          "height": 87
        },
        "outputId": "949cfa78-69ba-413b-eb20-ee35fa2295f7"
      },
      "source": [
        "num_params = len(list(model.parameters()))\n",
        "for ii in range(num_params):\n",
        "  print(list(model.parameters())[ii].size())"
      ],
      "execution_count": 28,
      "outputs": [
        {
          "output_type": "stream",
          "text": [
            "torch.Size([1176, 784])\n",
            "torch.Size([1176])\n",
            "torch.Size([784, 1176])\n",
            "torch.Size([784])\n"
          ],
          "name": "stdout"
        }
      ]
    },
    {
      "cell_type": "code",
      "metadata": {
        "id": "Un89KJoKxLS6",
        "colab_type": "code",
        "colab": {
          "base_uri": "https://localhost:8080/",
          "height": 174
        },
        "outputId": "6f586f53-380c-48c1-8e16-3add07485c57"
      },
      "source": [
        "idx = 0\n",
        "\n",
        "dropout = nn.Dropout(0.5)\n",
        "\n",
        "for epoch in range(num_epochs):\n",
        "  for i, (images, labels) in enumerate(train_loader):\n",
        "    images = images.view(-1, 28 * 28).requires_grad_()\n",
        "    noisy_images = dropout(torch.ones(images.shape)) * images\n",
        "    outputs = model(noisy_images)\n",
        "    loss = criterion(outputs, images)\n",
        "    optimizer.zero_grad()\n",
        "    loss.backward()\n",
        "    optimizer.step()\n",
        "    idx += 1\n",
        "\n",
        "    if idx % 500 == 0:\n",
        "      total_test_loss = 0\n",
        "      num_samples = 0\n",
        "\n",
        "      for images, labels in test_loader:\n",
        "        images = images.view(-1, 28 * 28)\n",
        "        noisy_images = dropout(torch.ones(images.shape)) * images\n",
        "        outputs = model(noisy_images)\n",
        "        test_loss = criterion(outputs, images)\n",
        "        num_samples += labels.size(0)\n",
        "        total_test_loss += test_loss\n",
        "\n",
        "      mean_test_loss = total_test_loss / num_samples\n",
        "\n",
        "      print(f\"Iteration: {idx}. Avg Test Loss: {mean_test_loss.item()}.\")  "
      ],
      "execution_count": 29,
      "outputs": [
        {
          "output_type": "stream",
          "text": [
            "Iteration: 500. Avg Test Loss: 0.00016223853162955493.\n",
            "Iteration: 1000. Avg Test Loss: 0.00014016730710864067.\n",
            "Iteration: 1500. Avg Test Loss: 0.00013124530960340053.\n",
            "Iteration: 2000. Avg Test Loss: 0.00012463501479942352.\n",
            "Iteration: 2500. Avg Test Loss: 0.00012076007988071069.\n",
            "Iteration: 3000. Avg Test Loss: 0.00011739446927094832.\n",
            "Iteration: 3500. Avg Test Loss: 0.00011651884415186942.\n",
            "Iteration: 4000. Avg Test Loss: 0.00011389394785510376.\n",
            "Iteration: 4500. Avg Test Loss: 0.00011288592941127717.\n"
          ],
          "name": "stdout"
        }
      ]
    },
    {
      "cell_type": "code",
      "metadata": {
        "id": "ODNUHF582L6u",
        "colab_type": "code",
        "colab": {
          "base_uri": "https://localhost:8080/",
          "height": 282
        },
        "outputId": "69a8ff51-d7fb-4fb0-9fbe-70aa621e3267"
      },
      "source": [
        "sample = 8\n",
        "raw_image = test_dataset[sample][0]\n",
        "final_image = raw_image.numpy().reshape(28, 28)\n",
        "label = test_dataset[sample][1]\n",
        "print(f\"Label: {label}\")\n",
        "plt.imshow(final_image, cmap = 'gray');"
      ],
      "execution_count": 31,
      "outputs": [
        {
          "output_type": "stream",
          "text": [
            "Label: 5\n"
          ],
          "name": "stdout"
        },
        {
          "output_type": "display_data",
          "data": {
            "image/png": "[encoded data removed]",
            "text/plain": [
              "<Figure size 432x288 with 1 Axes>"
            ]
          },
          "metadata": {
            "tags": [],
            "needs_background": "light"
          }
        }
      ]
    },
    {
      "cell_type": "code",
      "metadata": {
        "id": "Gc1CIjDU3sD1",
        "colab_type": "code",
        "colab": {
          "base_uri": "https://localhost:8080/",
          "height": 282
        },
        "outputId": "d721b2d6-1962-41f9-a078-86a7c52321b5"
      },
      "source": [
        "sample = 8\n",
        "raw_image = test_dataset[sample][0]\n",
        "noised_image = dropout(torch.ones(raw_image.shape)) * raw_image\n",
        "final_image = noised_image.numpy().reshape(28, 28)\n",
        "label = test_dataset[sample][1]\n",
        "print(f\"Label: {label}\")\n",
        "plt.imshow(final_image, cmap = 'gray');"
      ],
      "execution_count": 32,
      "outputs": [
        {
          "output_type": "stream",
          "text": [
            "Label: 5\n"
          ],
          "name": "stdout"
        },
        {
          "output_type": "display_data",
          "data": {
            "image/png": "[encoded data removed]",
            "text/plain": [
              "<Figure size 432x288 with 1 Axes>"
            ]
          },
          "metadata": {
            "tags": [],
            "needs_background": "light"
          }
        }
      ]
    },
    {
      "cell_type": "code",
      "metadata": {
        "id": "ZhL3srNO4BxZ",
        "colab_type": "code",
        "colab": {
          "base_uri": "https://localhost:8080/",
          "height": 282
        },
        "outputId": "7dc7d2d3-5fb4-4403-d82b-f2dc2a161784"
      },
      "source": [
        "sample = 8\n",
        "raw_image = test_dataset[sample][0]\n",
        "raw_image = raw_image.view(-1, 28 * 28)\n",
        "noised_image = dropout(torch.ones(raw_image.shape)) * raw_image\n",
        "output_image = model(noised_image)\n",
        "final_image = output_image.detach().numpy().reshape(28, 28)\n",
        "label = test_dataset[sample][1]\n",
        "print(f\"Label: {label}\")\n",
        "plt.imshow(final_image, cmap = 'gray');"
      ],
      "execution_count": 35,
      "outputs": [
        {
          "output_type": "stream",
          "text": [
            "Label: 5\n"
          ],
          "name": "stdout"
        },
        {
          "output_type": "display_data",
          "data": {
            "image/png": "[encoded data removed]",
            "text/plain": [
              "<Figure size 432x288 with 1 Axes>"
            ]
          },
          "metadata": {
            "tags": [],
            "needs_background": "light"
          }
        }
      ]
    }
  ]
}