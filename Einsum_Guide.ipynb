{
  "nbformat": 4,
  "nbformat_minor": 0,
  "metadata": {
    "colab": {
      "name": "Einsum_Guide.ipynb",
      "provenance": [],
      "collapsed_sections": []
    },
    "kernelspec": {
      "name": "python3",
      "display_name": "Python 3"
    },
    "language_info": {
      "name": "python"
    }
  },
  "cells": [
    {
      "cell_type": "code",
      "metadata": {
        "colab": {
          "base_uri": "https://localhost:8080/"
        },
        "id": "UdzMw_rPukys",
        "outputId": "1116c6ba-5a4a-4d11-e484-79ee22826eef"
      },
      "source": [
        "import torch\n",
        "# Pick a random vector\n",
        "z = torch.rand((2, 3))\n",
        "z"
      ],
      "execution_count": null,
      "outputs": [
        {
          "output_type": "execute_result",
          "data": {
            "text/plain": [
              "tensor([[0.2279, 0.2471, 0.7297],\n",
              "        [0.1047, 0.2904, 0.1499]])"
            ]
          },
          "metadata": {
            "tags": []
          },
          "execution_count": 3
        }
      ]
    },
    {
      "cell_type": "code",
      "metadata": {
        "colab": {
          "base_uri": "https://localhost:8080/"
        },
        "id": "XZ1K2s7iux5i",
        "outputId": "229a6a52-d6b5-4e87-b7f2-2b8ae5ad915e"
      },
      "source": [
        "# Permutation of tensor\n",
        "torch.einsum('ij -> ji', z)"
      ],
      "execution_count": null,
      "outputs": [
        {
          "output_type": "execute_result",
          "data": {
            "text/plain": [
              "tensor([[0.2279, 0.1047],\n",
              "        [0.2471, 0.2904],\n",
              "        [0.7297, 0.1499]])"
            ]
          },
          "metadata": {
            "tags": []
          },
          "execution_count": 4
        }
      ]
    },
    {
      "cell_type": "code",
      "metadata": {
        "colab": {
          "base_uri": "https://localhost:8080/"
        },
        "id": "GH2Wpuagu4z0",
        "outputId": "59953fcf-24a2-48a5-e1a7-2027e97684b0"
      },
      "source": [
        "# Summation of tensor\n",
        "torch.einsum('ij -> ', z)"
      ],
      "execution_count": null,
      "outputs": [
        {
          "output_type": "execute_result",
          "data": {
            "text/plain": [
              "tensor(1.7498)"
            ]
          },
          "metadata": {
            "tags": []
          },
          "execution_count": 5
        }
      ]
    },
    {
      "cell_type": "code",
      "metadata": {
        "colab": {
          "base_uri": "https://localhost:8080/"
        },
        "id": "LCkRiPeqvB0v",
        "outputId": "724ed66e-2981-48d2-b90d-f08b511401b6"
      },
      "source": [
        "# Sum columnwise\n",
        "torch.einsum('ij -> j', z)"
      ],
      "execution_count": null,
      "outputs": [
        {
          "output_type": "execute_result",
          "data": {
            "text/plain": [
              "tensor([0.3327, 0.5375, 0.8796])"
            ]
          },
          "metadata": {
            "tags": []
          },
          "execution_count": 6
        }
      ]
    },
    {
      "cell_type": "code",
      "metadata": {
        "colab": {
          "base_uri": "https://localhost:8080/"
        },
        "id": "jEZb_E-IvLCA",
        "outputId": "2a690608-9ffb-4033-c1f3-6e393307c674"
      },
      "source": [
        "# Sum rowwise\n",
        "torch.einsum('ij -> i', z)"
      ],
      "execution_count": null,
      "outputs": [
        {
          "output_type": "execute_result",
          "data": {
            "text/plain": [
              "tensor([1.2047, 0.5450])"
            ]
          },
          "metadata": {
            "tags": []
          },
          "execution_count": 7
        }
      ]
    },
    {
      "cell_type": "code",
      "metadata": {
        "colab": {
          "base_uri": "https://localhost:8080/"
        },
        "id": "bM0ERrzavTsd",
        "outputId": "06a386e7-b570-4a72-93e6-58e0f691855b"
      },
      "source": [
        "# Matrix Vector multiplication\n",
        "y = torch.rand((1, 3))\n",
        "torch.einsum('ik, jk -> ij', z, y)"
      ],
      "execution_count": null,
      "outputs": [
        {
          "output_type": "execute_result",
          "data": {
            "text/plain": [
              "tensor([[0.3799],\n",
              "        [0.1832]])"
            ]
          },
          "metadata": {
            "tags": []
          },
          "execution_count": 8
        }
      ]
    },
    {
      "cell_type": "code",
      "metadata": {
        "colab": {
          "base_uri": "https://localhost:8080/"
        },
        "id": "BLdBEpeqvkgN",
        "outputId": "9a2c2cb3-5e29-4ab3-addf-8759332d2952"
      },
      "source": [
        "# Matrix-Matrix multiplication\n",
        "torch.einsum('ik, jk -> ij', z, z)"
      ],
      "execution_count": null,
      "outputs": [
        {
          "output_type": "execute_result",
          "data": {
            "text/plain": [
              "tensor([[0.6455, 0.2050],\n",
              "        [0.2050, 0.1178]])"
            ]
          },
          "metadata": {
            "tags": []
          },
          "execution_count": 9
        }
      ]
    },
    {
      "cell_type": "code",
      "metadata": {
        "colab": {
          "base_uri": "https://localhost:8080/"
        },
        "id": "XY55dzDnv3U1",
        "outputId": "97601104-e8f8-40df-f6ba-c6fd0608f393"
      },
      "source": [
        "# Dot product of first row of matrix - Product and Sum em' up\n",
        "torch.einsum('i,i -> ', z[0], z[0])"
      ],
      "execution_count": null,
      "outputs": [
        {
          "output_type": "execute_result",
          "data": {
            "text/plain": [
              "tensor(0.6455)"
            ]
          },
          "metadata": {
            "tags": []
          },
          "execution_count": 10
        }
      ]
    },
    {
      "cell_type": "code",
      "metadata": {
        "colab": {
          "base_uri": "https://localhost:8080/"
        },
        "id": "aZLdvYeFwnUL",
        "outputId": "f85f07f5-8e9a-4d64-87b3-fc7d22ff842d"
      },
      "source": [
        "# Matrix dot product\n",
        "torch.einsum('ij, ij -> ', z, z)"
      ],
      "execution_count": null,
      "outputs": [
        {
          "output_type": "execute_result",
          "data": {
            "text/plain": [
              "tensor(0.7633)"
            ]
          },
          "metadata": {
            "tags": []
          },
          "execution_count": 11
        }
      ]
    },
    {
      "cell_type": "code",
      "metadata": {
        "colab": {
          "base_uri": "https://localhost:8080/"
        },
        "id": "rh3FWO6vwwaK",
        "outputId": "26cf132e-d9a3-4f70-da85-3b23fc9308c6"
      },
      "source": [
        "# Hadamard product\n",
        "torch.einsum('ij, ij -> ij', z, z)"
      ],
      "execution_count": null,
      "outputs": [
        {
          "output_type": "execute_result",
          "data": {
            "text/plain": [
              "tensor([[0.0519, 0.0610, 0.5325],\n",
              "        [0.0110, 0.0843, 0.0225]])"
            ]
          },
          "metadata": {
            "tags": []
          },
          "execution_count": 12
        }
      ]
    },
    {
      "cell_type": "code",
      "metadata": {
        "colab": {
          "base_uri": "https://localhost:8080/"
        },
        "id": "rxiNYmmlw5Rr",
        "outputId": "9b8b213f-5156-4fd9-f76e-0397f2b8b6e8"
      },
      "source": [
        "# Outer product \n",
        "x = torch.rand((3))\n",
        "y = torch.rand((5)) #Vectors\n",
        "torch.einsum('i,j -> ij', x, y)"
      ],
      "execution_count": null,
      "outputs": [
        {
          "output_type": "execute_result",
          "data": {
            "text/plain": [
              "tensor([[0.4602, 0.6050, 0.1469, 0.5623, 0.5378],\n",
              "        [0.3053, 0.4014, 0.0975, 0.3731, 0.3568],\n",
              "        [0.0105, 0.0139, 0.0034, 0.0129, 0.0123]])"
            ]
          },
          "metadata": {
            "tags": []
          },
          "execution_count": 14
        }
      ]
    },
    {
      "cell_type": "code",
      "metadata": {
        "colab": {
          "base_uri": "https://localhost:8080/"
        },
        "id": "i17w91NoxEil",
        "outputId": "bbd6fc28-ac5a-472f-85b9-887d823ba2b6"
      },
      "source": [
        "# Batch matrix multiplication (BMM)\n",
        "x = torch.rand((2, 3, 5))\n",
        "y = torch.rand((2, 5, 4))\n",
        "torch.einsum('ijk, ikl -> ijl', x, y)"
      ],
      "execution_count": null,
      "outputs": [
        {
          "output_type": "execute_result",
          "data": {
            "text/plain": [
              "tensor([[[0.7460, 0.5306, 1.0423, 1.0586],\n",
              "         [1.4315, 1.0697, 1.3454, 1.4614],\n",
              "         [0.9488, 0.5936, 1.3178, 1.4932]],\n",
              "\n",
              "        [[1.5799, 1.0235, 0.7281, 1.2465],\n",
              "         [1.6954, 1.1087, 0.6215, 1.4870],\n",
              "         [1.0122, 0.9348, 0.5714, 1.1257]]])"
            ]
          },
          "metadata": {
            "tags": []
          },
          "execution_count": 15
        }
      ]
    },
    {
      "cell_type": "code",
      "metadata": {
        "colab": {
          "base_uri": "https://localhost:8080/"
        },
        "id": "Vov7pPS-xbvI",
        "outputId": "893fb6fd-7f08-4300-b5d8-d7c977a5d4c9"
      },
      "source": [
        "# Finding the trace of a matrix\n",
        "z = torch.rand((3, 3))\n",
        "print(z)\n",
        "y = torch.einsum('ii->', z)\n",
        "print(y)"
      ],
      "execution_count": null,
      "outputs": [
        {
          "output_type": "stream",
          "text": [
            "tensor([[0.3781, 0.7971, 0.3055],\n",
            "        [0.7768, 0.9433, 0.6507],\n",
            "        [0.1399, 0.8613, 0.4970]])\n",
            "tensor(1.8184)\n"
          ],
          "name": "stdout"
        }
      ]
    },
    {
      "cell_type": "code",
      "metadata": {
        "colab": {
          "base_uri": "https://localhost:8080/"
        },
        "id": "ysnZTmIsxnlJ",
        "outputId": "b45475ec-bbad-441d-be17-80a7ab844368"
      },
      "source": [
        "# Getting the diagonal of a matrix\n",
        "torch.einsum('ii->i', z)"
      ],
      "execution_count": null,
      "outputs": [
        {
          "output_type": "execute_result",
          "data": {
            "text/plain": [
              "tensor([0.3781, 0.9433, 0.4970])"
            ]
          },
          "metadata": {
            "tags": []
          },
          "execution_count": 19
        }
      ]
    }
  ]
}