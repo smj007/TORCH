{
  "nbformat": 4,
  "nbformat_minor": 0,
  "metadata": {
    "colab": {
      "name": "FFN - CPU - PyTorch.ipynb",
      "provenance": []
    },
    "kernelspec": {
      "name": "python3",
      "display_name": "Python 3"
    },
    "accelerator": "GPU"
  },
  "cells": [
    {
      "cell_type": "code",
      "metadata": {
        "id": "xYPkJEmBcKXo",
        "colab_type": "code",
        "colab": {}
      },
      "source": [
        "import torch\n",
        "import torch.nn as nn\n",
        "from torchvision import datasets, transforms"
      ],
      "execution_count": 1,
      "outputs": []
    },
    {
      "cell_type": "code",
      "metadata": {
        "id": "WK0heTMYcukH",
        "colab_type": "code",
        "colab": {}
      },
      "source": [
        "train_dataset = datasets.MNIST(root='./data', \n",
        "                            train=True, \n",
        "                            transform=transforms.ToTensor(),\n",
        "                            download=True)"
      ],
      "execution_count": 2,
      "outputs": []
    },
    {
      "cell_type": "code",
      "metadata": {
        "id": "Dg0ymO0PdGAt",
        "colab_type": "code",
        "colab": {}
      },
      "source": [
        "test_dataset = datasets.MNIST(root='./data', \n",
        "                           train=False, \n",
        "                           transform=transforms.ToTensor())"
      ],
      "execution_count": 3,
      "outputs": []
    },
    {
      "cell_type": "code",
      "metadata": {
        "id": "RQiu4qZBdKp1",
        "colab_type": "code",
        "colab": {}
      },
      "source": [
        "#making the dataset iterable\n",
        "\n",
        "batch_size = 100\n",
        "n_iters = 3000\n",
        "nb_epochs = n_iters / (len(train_dataset) / batch_size)\n",
        "nb_epochs = int(nb_epochs)\n",
        "\n",
        "train_loader = torch.utils.data.DataLoader(dataset = train_dataset,\n",
        "                                           batch_size = batch_size,\n",
        "                                           shuffle = True)\n",
        "\n",
        "test_loader = torch.utils.data.DataLoader(dataset=test_dataset, \n",
        "                                          batch_size=batch_size, \n",
        "                                          shuffle=False)"
      ],
      "execution_count": 4,
      "outputs": []
    },
    {
      "cell_type": "code",
      "metadata": {
        "id": "uKETSd95fJI0",
        "colab_type": "code",
        "colab": {}
      },
      "source": [
        "class FFNModel(nn.Module):\n",
        "  def __init__(self, in_dim, h_dim, out_dim):\n",
        "    super(FFNModel, self).__init__()\n",
        "    self.fc1 = nn.Linear(in_dim, h_dim)\n",
        "    self.relu1 = nn.ReLU()\n",
        "\n",
        "    self.fc2 = nn.Linear(h_dim, h_dim)\n",
        "    self.relu2 = nn.ReLU()\n",
        "\n",
        "    self.fc3 = nn.Linear(h_dim, h_dim)\n",
        "    self.relu3 = nn.ReLU()\n",
        "\n",
        "    self.fc4 = nn.Linear(h_dim, out_dim)\n",
        "\n",
        "\n",
        "  def forward(self, x):\n",
        "\n",
        "      # Linear function 1\n",
        "      out = self.fc1(x)\n",
        "      # Non-linearity 1\n",
        "      out = self.relu1(out)\n",
        "      \n",
        "      # Linear function 2\n",
        "      out = self.fc2(out)\n",
        "      # Non-linearity 2\n",
        "      out = self.relu2(out)\n",
        "      \n",
        "      # Linear function 2\n",
        "      out = self.fc3(out)\n",
        "      # Non-linearity 2\n",
        "      out = self.relu3(out)\n",
        "      \n",
        "      # Linear function 4 (readout)\n",
        "      out = self.fc4(out)\n",
        "      return out\n",
        "\n"
      ],
      "execution_count": 5,
      "outputs": []
    },
    {
      "cell_type": "code",
      "metadata": {
        "id": "vzTI7sOqgeOU",
        "colab_type": "code",
        "colab": {}
      },
      "source": [
        "input_dim = 28 * 28\n",
        "hidden_dim = 100\n",
        "output_dim = 10\n",
        "\n",
        "model = FFNModel(input_dim, hidden_dim, output_dim)\n",
        "criterion = nn.CrossEntropyLoss()\n",
        "learning_rate = 0.1\n",
        "optimizer = torch.optim.SGD(model.parameters(), lr = learning_rate)\n"
      ],
      "execution_count": 6,
      "outputs": []
    },
    {
      "cell_type": "code",
      "metadata": {
        "id": "-RcSnhEig64p",
        "colab_type": "code",
        "colab": {
          "base_uri": "https://localhost:8080/",
          "height": 159
        },
        "outputId": "f4d2e66f-abf4-4745-8f2f-bc384d11922e"
      },
      "source": [
        "iter = 0\n",
        "\n",
        "for epoch in range(nb_epochs):\n",
        "  for i, (images, labels) in enumerate(train_loader):\n",
        "    images = images.view(-1, 28 * 28).requires_grad_()\n",
        "\n",
        "    optimizer.zero_grad()\n",
        "    outputs = model(images)\n",
        "    loss = criterion(outputs, labels)\n",
        "    loss.backward()\n",
        "    optimizer.step()\n",
        "    iter += 1\n",
        "\n",
        "    if iter % 500 == 0:\n",
        "      correct = 0\n",
        "      total = 0\n",
        "      for images, labels in test_loader:\n",
        "        images = images.view(-1, 28*28).requires_grad_()\n",
        "        outputs = model(images)\n",
        "        _, predicted = torch.max(outputs.data, 1)\n",
        "        total += labels.size(0)\n",
        "        correct += (predicted == labels).sum()\n",
        "\n",
        "      accuracy = 100 * correct / total\n",
        "\n",
        "      print('Iteration: {}. Loss: {}. Accuracy: {}'.format(iter, loss.item(), accuracy)) "
      ],
      "execution_count": 7,
      "outputs": [
        {
          "output_type": "stream",
          "text": [
            "/pytorch/aten/src/ATen/native/BinaryOps.cpp:81: UserWarning: Integer division of tensors using div or / is deprecated, and in a future release div will perform true division as in Python 3. Use true_divide or floor_divide (// in Python) instead.\n"
          ],
          "name": "stderr"
        },
        {
          "output_type": "stream",
          "text": [
            "Iteration: 500. Loss: 0.19334676861763. Accuracy: 91\n",
            "Iteration: 1000. Loss: 0.14088737964630127. Accuracy: 94\n",
            "Iteration: 1500. Loss: 0.112630195915699. Accuracy: 94\n",
            "Iteration: 2000. Loss: 0.10298855602741241. Accuracy: 96\n",
            "Iteration: 2500. Loss: 0.08683620393276215. Accuracy: 96\n",
            "Iteration: 3000. Loss: 0.04834673926234245. Accuracy: 96\n"
          ],
          "name": "stdout"
        }
      ]
    }
  ]
}