{
  "nbformat": 4,
  "nbformat_minor": 0,
  "metadata": {
    "colab": {
      "name": "CNN (MNIST) - PyTorch",
      "provenance": [],
      "collapsed_sections": []
    },
    "kernelspec": {
      "name": "python3",
      "display_name": "Python 3"
    },
    "accelerator": "GPU"
  },
  "cells": [
    {
      "cell_type": "code",
      "metadata": {
        "id": "8Bs4KuNvtYzq",
        "colab_type": "code",
        "colab": {
          "base_uri": "https://localhost:8080/",
          "height": 335
        },
        "outputId": "6928e2a8-eddd-4615-a379-ba9d157395a4"
      },
      "source": [
        "!pip3 install torch torchvision"
      ],
      "execution_count": 1,
      "outputs": [
        {
          "output_type": "stream",
          "text": [
            "Requirement already satisfied: torch in /usr/local/lib/python3.6/dist-packages (1.5.0+cu101)\n",
            "Requirement already satisfied: torchvision in /usr/local/lib/python3.6/dist-packages (0.6.0+cu101)\n",
            "Requirement already satisfied: future in /usr/local/lib/python3.6/dist-packages (from torch) (0.16.0)\n",
            "Requirement already satisfied: numpy in /usr/local/lib/python3.6/dist-packages (from torch) (1.18.5)\n",
            "Collecting pillow>=4.1.1\n",
            "  Using cached https://files.pythonhosted.org/packages/e0/50/8e78e6f62ffa50d6ca95c281d5a2819bef66d023ac1b723e253de5bda9c5/Pillow-7.1.2-cp36-cp36m-manylinux1_x86_64.whl\n",
            "\u001b[31mERROR: albumentations 0.1.12 has requirement imgaug<0.2.7,>=0.2.5, but you'll have imgaug 0.2.9 which is incompatible.\u001b[0m\n",
            "Installing collected packages: pillow\n",
            "  Found existing installation: Pillow 4.0.0\n",
            "    Uninstalling Pillow-4.0.0:\n",
            "      Successfully uninstalled Pillow-4.0.0\n",
            "Successfully installed pillow-7.1.2\n"
          ],
          "name": "stdout"
        },
        {
          "output_type": "display_data",
          "data": {
            "application/vnd.colab-display-data+json": {
              "pip_warning": {
                "packages": [
                  "PIL"
                ]
              }
            }
          },
          "metadata": {
            "tags": []
          }
        }
      ]
    },
    {
      "cell_type": "code",
      "metadata": {
        "id": "I5dnSHZxCclj",
        "colab_type": "code",
        "colab": {}
      },
      "source": [
        "import torch\n",
        "import numpy as np\n",
        "import matplotlib.pyplot as plt\n",
        "from torch import nn\n",
        "import torch.nn.functional as F\n",
        "from torchvision import datasets, transforms  "
      ],
      "execution_count": 2,
      "outputs": []
    },
    {
      "cell_type": "code",
      "metadata": {
        "id": "72PB_i9-qvVU",
        "colab_type": "code",
        "colab": {}
      },
      "source": [
        "device = torch.device('cuda:0' if torch.cuda.is_available() else 'cpu')"
      ],
      "execution_count": 3,
      "outputs": []
    },
    {
      "cell_type": "code",
      "metadata": {
        "id": "ngfo_ZG_Ctnp",
        "colab_type": "code",
        "colab": {}
      },
      "source": [
        "transform = transforms.Compose([transforms.Resize((28,28)),\n",
        "                               transforms.ToTensor(),\n",
        "                               transforms.Normalize((0.5,), (0.5,))\n",
        "                               ])\n",
        "training_dataset = datasets.MNIST(root='./data', train=True, download=True, transform=transform)\n",
        "validation_dataset = datasets.MNIST(root='./data', train=False, download=True, transform=transform)\n",
        "\n",
        "training_loader = torch.utils.data.DataLoader(training_dataset, batch_size=100, shuffle=True)\n",
        "validation_loader = torch.utils.data.DataLoader(validation_dataset, batch_size = 100, shuffle=False)"
      ],
      "execution_count": 4,
      "outputs": []
    },
    {
      "cell_type": "code",
      "metadata": {
        "id": "Rvhh5Z10DroB",
        "colab_type": "code",
        "colab": {}
      },
      "source": [
        "def im_convert(tensor):  #.cpu() is because CUDA can not convert to numpy arrays\n",
        "  image = tensor.cpu().clone().detach().numpy()  #creating a copy, detach any existing graphs etc, and convert to numpy\n",
        "  image = image.transpose(1, 2, 0)  #(1, 28, 28) to (28, 28, 1)\n",
        "  print(image.shape)\n",
        "  image = image * np.array((0.5, 0.5, 0.5)) + np.array((0.5, 0.5, 0.5))\n",
        "  image = image.clip(0, 1)\n",
        "  return image"
      ],
      "execution_count": 5,
      "outputs": []
    },
    {
      "cell_type": "code",
      "metadata": {
        "id": "zsJK1ku5Dreh",
        "colab_type": "code",
        "colab": {
          "base_uri": "https://localhost:8080/",
          "height": 518
        },
        "outputId": "a7c6119a-7b28-49f0-d3d3-a913ca3c7407"
      },
      "source": [
        "dataiter = iter(training_loader)  #iteration through a batch of images\n",
        "images, labels = dataiter.next()  #next batch\n",
        "fig = plt.figure(figsize = (25, 4))\n",
        "\n",
        "for idx in np.arange(20):\n",
        "  ax = fig.add_subplot(2, 10, idx + 1, xticks = [], yticks = [])\n",
        "  plt.imshow(im_convert(images[idx]))  #need to convert to np array to display\n",
        "  ax.set_title([labels[idx].item()])"
      ],
      "execution_count": 6,
      "outputs": [
        {
          "output_type": "stream",
          "text": [
            "(28, 28, 1)\n",
            "(28, 28, 1)\n",
            "(28, 28, 1)\n",
            "(28, 28, 1)\n",
            "(28, 28, 1)\n",
            "(28, 28, 1)\n",
            "(28, 28, 1)\n",
            "(28, 28, 1)\n",
            "(28, 28, 1)\n",
            "(28, 28, 1)\n",
            "(28, 28, 1)\n",
            "(28, 28, 1)\n",
            "(28, 28, 1)\n",
            "(28, 28, 1)\n",
            "(28, 28, 1)\n",
            "(28, 28, 1)\n",
            "(28, 28, 1)\n",
            "(28, 28, 1)\n",
            "(28, 28, 1)\n",
            "(28, 28, 1)\n"
          ],
          "name": "stdout"
        },
        {
          "output_type": "display_data",
          "data": {
            "image/png": "[encoded data removed]",
            "text/plain": [
              "<Figure size 1800x288 with 20 Axes>"
            ]
          },
          "metadata": {
            "tags": []
          }
        }
      ]
    },
    {
      "cell_type": "code",
      "metadata": {
        "id": "GE5vCEFmHXmc",
        "colab_type": "code",
        "colab": {}
      },
      "source": [
        "class LeNet(nn.Module):\n",
        "\n",
        "  def __init__(self):\n",
        "    super().__init__()\n",
        "    self.conv1 = nn.Conv2d(1, 20, 5, 1)  #input depth, output depth, kernel size, strides\n",
        "    self.conv2 = nn.Conv2d(20, 50, 5, 1)\n",
        "    self.fc1 = nn.Linear(4 * 4 * 50, 500)  #ip, op size\n",
        "    self.dropout1 = nn.Dropout(0.5)\n",
        "    self.fc2 = nn.Linear(500, 10)\n",
        "\n",
        "\n",
        "  def forward(self, x):\n",
        "    x = F.relu(self.conv1(x))\n",
        "    x = F.max_pool2d(x, 2, 2)\n",
        "    x = F.relu(self.conv2(x))\n",
        "    x = F.max_pool2d(x, 2, 2)  #ip, kernel size\n",
        "    x = x.view(-1, 4 * 4 * 50)\n",
        "    x = F.relu(self.fc1(x))\n",
        "    x = self.dropout1(x)\n",
        "    x = self.fc2(x)\n",
        "    return x    #here we return the raw score , since we use nn.CrossEntropyLoss which is logsoftmax + Negative log likelihood - Value should not be close to 0 or 1 for log\n"
      ],
      "execution_count": 7,
      "outputs": []
    },
    {
      "cell_type": "code",
      "metadata": {
        "id": "YCpeH7i_VRCz",
        "colab_type": "code",
        "colab": {
          "base_uri": "https://localhost:8080/",
          "height": 139
        },
        "outputId": "ddc39e20-0361-4f2d-dfc9-210fed1dd57a"
      },
      "source": [
        "model = LeNet().to(device)  #feed model used to GPU\n",
        "model"
      ],
      "execution_count": 8,
      "outputs": [
        {
          "output_type": "execute_result",
          "data": {
            "text/plain": [
              "LeNet(\n",
              "  (conv1): Conv2d(1, 20, kernel_size=(5, 5), stride=(1, 1))\n",
              "  (conv2): Conv2d(20, 50, kernel_size=(5, 5), stride=(1, 1))\n",
              "  (fc1): Linear(in_features=800, out_features=500, bias=True)\n",
              "  (dropout1): Dropout(p=0.5, inplace=False)\n",
              "  (fc2): Linear(in_features=500, out_features=10, bias=True)\n",
              ")"
            ]
          },
          "metadata": {
            "tags": []
          },
          "execution_count": 8
        }
      ]
    },
    {
      "cell_type": "code",
      "metadata": {
        "id": "j5yHTI4PVa4E",
        "colab_type": "code",
        "colab": {}
      },
      "source": [
        "criterion = nn.CrossEntropyLoss()\n",
        "optimizer = torch.optim.Adam(model.parameters(), lr = 0.0001)"
      ],
      "execution_count": 9,
      "outputs": []
    },
    {
      "cell_type": "code",
      "metadata": {
        "id": "ygTgWHfotmcv",
        "colab_type": "code",
        "colab": {}
      },
      "source": [
        "# epochs = 15\n",
        "# running_loss_history = []\n",
        "# running_corrects_history = []\n",
        "# val_running_loss_history = []\n",
        "# val_running_corrects_history = []\n",
        "\n",
        "# for e in range(epochs):\n",
        "  \n",
        "#   running_loss = 0.0\n",
        "#   running_corrects = 0.0\n",
        "#   val_running_loss = 0.0\n",
        "#   val_running_corrects = 0.0\n",
        "  \n",
        "#   for inputs, labels in training_loader:\n",
        "#     inputs = inputs.view(inputs.shape[0], -1)\n",
        "#     outputs = model(inputs)\n",
        "#     loss = criterion(outputs, labels)\n",
        "    \n",
        "#     optimizer.zero_grad()\n",
        "#     loss.backward()\n",
        "#     optimizer.step()\n",
        "    \n",
        "#     _, preds = torch.max(outputs, 1)\n",
        "#     running_loss += loss.item()\n",
        "#     running_corrects += torch.sum(preds == labels.data)\n",
        "\n",
        "#   else:\n",
        "#     with torch.no_grad():\n",
        "#       for val_inputs, val_labels in validation_loader:\n",
        "#         val_inputs = val_inputs.view(val_inputs.shape[0], -1)\n",
        "#         val_outputs = model(val_inputs)\n",
        "#         val_loss = criterion(val_outputs, val_labels)\n",
        "        \n",
        "#         _, val_preds = torch.max(val_outputs, 1)\n",
        "#         val_running_loss += val_loss.item()\n",
        "#         val_running_corrects += torch.sum(val_preds == val_labels.data)\n",
        "      \n",
        "#     epoch_loss = running_loss/len(training_loader)\n",
        "#     epoch_acc = running_corrects.float()/ len(training_loader)\n",
        "#     running_loss_history.append(epoch_loss)\n",
        "#     running_corrects_history.append(epoch_acc)\n",
        "    \n",
        "#     val_epoch_loss = val_running_loss/len(validation_loader)\n",
        "#     val_epoch_acc = val_running_corrects.float()/ len(validation_loader)\n",
        "#     val_running_loss_history.append(val_epoch_loss)\n",
        "#     val_running_corrects_history.append(val_epoch_acc)\n",
        "#     print('epoch :', (e+1))\n",
        "#     print('training loss: {:.4f}, acc {:.4f} '.format(epoch_loss, epoch_acc.item()))\n",
        "#     print('validation loss: {:.4f}, validation acc {:.4f} '.format(val_epoch_loss, val_epoch_acc.item()))"
      ],
      "execution_count": 10,
      "outputs": []
    },
    {
      "cell_type": "code",
      "metadata": {
        "id": "OL0qKMMLmEZw",
        "colab_type": "code",
        "colab": {
          "base_uri": "https://localhost:8080/",
          "height": 647
        },
        "outputId": "753eb833-ae0d-4194-c286-e86a22b4bf9c"
      },
      "source": [
        "epochs = 12\n",
        "running_loss_history = []\n",
        "running_corrects_history = []\n",
        "running_val_loss_history = []\n",
        "running_val_corrects_history = []\n",
        "\n",
        "for e in range(epochs):\n",
        "\n",
        "  running_loss = 0.\n",
        "  running_corrects = 0. \n",
        "  running_val_loss = 0.\n",
        "  running_val_corrects = 0.\n",
        "\n",
        "  for inputs, labels in training_loader:\n",
        "    inputs = inputs.to(device)\n",
        "    labels = labels.to(device)\n",
        "    outputs = model(inputs)\n",
        "    loss = criterion(outputs, labels)\n",
        "\n",
        "    optimizer.zero_grad()\n",
        "    loss.backward()\n",
        "    optimizer.step()\n",
        "\n",
        "    _, preds = torch.max(outputs, 1)  #1st return value is the winning class score and preds is the winning class, stores in tensors for the data in current batch\n",
        "    running_loss += loss.item()\n",
        "    running_corrects += torch.sum(preds == labels.data)   #the == returns in form [0, 1, 0, ...] where 1 is if the correct class is predicted, sum of all correct classes\n",
        "\n",
        "  else:\n",
        "      with torch.no_grad():\n",
        "        for val_inputs, val_labels in validation_loader:\n",
        "          val_inputs = val_inputs.to(device)\n",
        "          val_labels = val_labels.to(device)\n",
        "          val_outputs = model(val_inputs)\n",
        "          val_loss = criterion(val_outputs, val_labels)\n",
        "\n",
        "          _, val_preds = torch.max(val_outputs, 1)\n",
        "          running_val_loss += val_loss.item()\n",
        "          running_val_corrects += torch.sum(val_preds == val_labels.data)\n",
        "\n",
        "      val_epoch_loss = running_val_loss / len(validation_loader)\n",
        "      val_epoch_acc = running_val_corrects.float() / len(validation_loader)\n",
        "      running_val_loss_history.append(val_epoch_loss)\n",
        "      running_val_corrects_history.append(val_epoch_acc)    \n",
        "\n",
        "      epoch_loss = running_loss / len(training_loader)    #here also we can divide by len(training_loader.dataset)\n",
        "      epoch_acc = running_corrects.float() / len(training_loader)   #Here we have taken the batch size as 100 so we get auto percentages, instead we can change the batch size and divide by len(training_dataset) as it will give us a probability of correctly classified images\n",
        "      running_loss_history.append(epoch_loss)                          #Same applies to validation set\n",
        "      running_corrects_history.append(epoch_acc)\n",
        "\n",
        "      print(\"Epoch: {}\".format(e))\n",
        "      print(\"Training Loss : {:.4}, Acc : {:.4}\".format(epoch_loss, epoch_acc.item()))\n",
        "      print(\"Validation Loss : {:.4}, Acc : {:.4}\".format(val_epoch_loss, val_epoch_acc.item()))"
      ],
      "execution_count": 11,
      "outputs": [
        {
          "output_type": "stream",
          "text": [
            "Epoch: 0\n",
            "Training Loss : 0.5805, Acc : 84.27\n",
            "Validation Loss : 0.1872, Acc : 94.54\n",
            "Epoch: 1\n",
            "Training Loss : 0.1467, Acc : 95.65\n",
            "Validation Loss : 0.1013, Acc : 96.95\n",
            "Epoch: 2\n",
            "Training Loss : 0.09723, Acc : 97.14\n",
            "Validation Loss : 0.07617, Acc : 97.79\n",
            "Epoch: 3\n",
            "Training Loss : 0.07658, Acc : 97.69\n",
            "Validation Loss : 0.06267, Acc : 98.11\n",
            "Epoch: 4\n",
            "Training Loss : 0.06322, Acc : 98.13\n",
            "Validation Loss : 0.05511, Acc : 98.15\n",
            "Epoch: 5\n",
            "Training Loss : 0.0554, Acc : 98.37\n",
            "Validation Loss : 0.04886, Acc : 98.49\n",
            "Epoch: 6\n",
            "Training Loss : 0.0486, Acc : 98.58\n",
            "Validation Loss : 0.04158, Acc : 98.53\n",
            "Epoch: 7\n",
            "Training Loss : 0.04401, Acc : 98.66\n",
            "Validation Loss : 0.04031, Acc : 98.75\n",
            "Epoch: 8\n",
            "Training Loss : 0.03916, Acc : 98.87\n",
            "Validation Loss : 0.03683, Acc : 98.77\n",
            "Epoch: 9\n",
            "Training Loss : 0.03584, Acc : 98.88\n",
            "Validation Loss : 0.03601, Acc : 98.83\n",
            "Epoch: 10\n",
            "Training Loss : 0.03265, Acc : 99.01\n",
            "Validation Loss : 0.0369, Acc : 98.88\n",
            "Epoch: 11\n",
            "Training Loss : 0.03061, Acc : 99.09\n",
            "Validation Loss : 0.02987, Acc : 98.98\n"
          ],
          "name": "stdout"
        }
      ]
    },
    {
      "cell_type": "code",
      "metadata": {
        "id": "6kNGjV0EVmD2",
        "colab_type": "code",
        "colab": {}
      },
      "source": [
        "# epochs = 12\n",
        "# running_loss_history = []\n",
        "# running_corrects_history = []\n",
        "\n",
        "# for e in range(epochs):\n",
        "\n",
        "#   running_loss = 0.\n",
        "#   running_corrects = 0. \n",
        "\n",
        "#   for inputs, labels in training_loader:\n",
        "#     inputs = inputs.view(inputs.shape[0], -1)\n",
        "#     outputs = model(inputs)\n",
        "#     loss = criterion(outputs, labels)\n",
        "\n",
        "#     optimizer.zero_grad()\n",
        "#     loss.backward()\n",
        "#     optimizer.step()\n",
        "\n",
        "#     _, preds = torch.max(outputs, 1)  #1st return value is the winning class score and preds is the winning class, stores in tensors for the data in current batch\n",
        "#     running_loss += loss.item()\n",
        "#     running_corrects += torch.sum(preds == labels.data)   #the == returns in form [0, 1, 0, ...] where 1 is if the correct class is predicted, sum of all correct classes\n",
        "\n",
        "#   else:\n",
        "#       epoch_loss = running_loss / len(training_loader)\n",
        "#       epoch_acc = running_corrects.float() / len(training_loader)\n",
        "#       running_loss_history.append(epoch_loss)\n",
        "#       running_corrects_history.append(epoch_acc)\n",
        "#       print(\"Training Loss : {:.4}, Acc : {:.4}\".format(epoch_loss, epoch_acc.item()))"
      ],
      "execution_count": 12,
      "outputs": []
    },
    {
      "cell_type": "code",
      "metadata": {
        "id": "23WeBC5oZtVH",
        "colab_type": "code",
        "colab": {
          "base_uri": "https://localhost:8080/",
          "height": 283
        },
        "outputId": "1b4961d0-9dcb-44b6-fd85-28e8a9d3cc56"
      },
      "source": [
        "plt.plot(running_loss_history, label = 'training loss')\n",
        "plt.plot(running_val_loss_history, label = 'validation loss')\n",
        "plt.legend()\n",
        "\n",
        "#Dropout helps to reduce the generalization error and hence reduces overfitting"
      ],
      "execution_count": 13,
      "outputs": [
        {
          "output_type": "execute_result",
          "data": {
            "text/plain": [
              "<matplotlib.legend.Legend at 0x7f9ef9578710>"
            ]
          },
          "metadata": {
            "tags": []
          },
          "execution_count": 13
        },
        {
          "output_type": "display_data",
          "data": {
            "image/png": "[encoded data removed]",
            "text/plain": [
              "<Figure size 432x288 with 1 Axes>"
            ]
          },
          "metadata": {
            "tags": [],
            "needs_background": "light"
          }
        }
      ]
    },
    {
      "cell_type": "code",
      "metadata": {
        "id": "gaYifdDLZtDi",
        "colab_type": "code",
        "colab": {
          "base_uri": "https://localhost:8080/",
          "height": 282
        },
        "outputId": "2ade1f85-f7e4-4619-bbf4-2278db58fe9f"
      },
      "source": [
        "plt.plot(running_corrects_history, label = 'training accuracy')\n",
        "plt.plot(running_val_corrects_history, label = 'validation_accuracy')\n",
        "plt.legend()"
      ],
      "execution_count": 14,
      "outputs": [
        {
          "output_type": "execute_result",
          "data": {
            "text/plain": [
              "<matplotlib.legend.Legend at 0x7f9ef970b7f0>"
            ]
          },
          "metadata": {
            "tags": []
          },
          "execution_count": 14
        },
        {
          "output_type": "display_data",
          "data": {
            "image/png": "[encoded data removed]",
            "text/plain": [
              "<Figure size 432x288 with 1 Axes>"
            ]
          },
          "metadata": {
            "tags": [],
            "needs_background": "light"
          }
        }
      ]
    },
    {
      "cell_type": "code",
      "metadata": {
        "id": "4TMbxQWzOdBF",
        "colab_type": "code",
        "colab": {}
      },
      "source": [
        "!pip3 install pillow==4.0.0"
      ],
      "execution_count": null,
      "outputs": []
    },
    {
      "cell_type": "code",
      "metadata": {
        "id": "AV-gNBErOc6t",
        "colab_type": "code",
        "colab": {}
      },
      "source": [
        "import PIL.ImageOps"
      ],
      "execution_count": 16,
      "outputs": []
    },
    {
      "cell_type": "code",
      "metadata": {
        "id": "IjbWtGM_PE6i",
        "colab_type": "code",
        "colab": {
          "base_uri": "https://localhost:8080/",
          "height": 286
        },
        "outputId": "73fd5bed-fb4d-448a-96b1-1e524bee80e4"
      },
      "source": [
        "import requests\n",
        "from PIL import Image\n",
        "\n",
        "url = 'https://images.homedepot-static.com/productImages/007164ea-d47e-4f66-8d8c-fd9f621984a2/svn/architectural-mailboxes-house-letters-numbers-3585b-5-64_1000.jpg'\n",
        "response = requests.get(url, stream = True)\n",
        "img = Image.open(response.raw)\n",
        "plt.imshow(img)"
      ],
      "execution_count": 17,
      "outputs": [
        {
          "output_type": "execute_result",
          "data": {
            "text/plain": [
              "<matplotlib.image.AxesImage at 0x7f9ef9610dd8>"
            ]
          },
          "metadata": {
            "tags": []
          },
          "execution_count": 17
        },
        {
          "output_type": "display_data",
          "data": {
            "image/png": "[encoded data removed]",
            "text/plain": [
              "<Figure size 432x288 with 1 Axes>"
            ]
          },
          "metadata": {
            "tags": [],
            "needs_background": "light"
          }
        }
      ]
    },
    {
      "cell_type": "code",
      "metadata": {
        "id": "rnB3kKdbQy7K",
        "colab_type": "code",
        "colab": {
          "base_uri": "https://localhost:8080/",
          "height": 300
        },
        "outputId": "7ce7f3a6-e215-416e-ac34-a4584ac20bd4"
      },
      "source": [
        "img = PIL.ImageOps.invert(img)\n",
        "img = img.convert('1')  #to BW 1 channel mode\n",
        "img = transform(img)  #resizing etc\n",
        "plt.imshow(im_convert(img))"
      ],
      "execution_count": 18,
      "outputs": [
        {
          "output_type": "stream",
          "text": [
            "(28, 28, 1)\n"
          ],
          "name": "stdout"
        },
        {
          "output_type": "execute_result",
          "data": {
            "text/plain": [
              "<matplotlib.image.AxesImage at 0x7f9ef8112198>"
            ]
          },
          "metadata": {
            "tags": []
          },
          "execution_count": 18
        },
        {
          "output_type": "display_data",
          "data": {
            "image/png": "[encoded data removed]",
            "text/plain": [
              "<Figure size 432x288 with 1 Axes>"
            ]
          },
          "metadata": {
            "tags": [],
            "needs_background": "light"
          }
        }
      ]
    },
    {
      "cell_type": "code",
      "metadata": {
        "id": "hKPF2QqnRXZ1",
        "colab_type": "code",
        "colab": {
          "base_uri": "https://localhost:8080/",
          "height": 34
        },
        "outputId": "506b05cb-66ad-4cc3-c884-4ff1c596d0c8"
      },
      "source": [
        "images = img.to(device)\n",
        "image = images[0].unsqueeze(0).unsqueeze(0)  #Convert it to 4dims as needed by conv NW\n",
        "output = model(image)   \n",
        "_, pred = torch.max(output, 1)\n",
        "print(pred.item())"
      ],
      "execution_count": 26,
      "outputs": [
        {
          "output_type": "stream",
          "text": [
            "5\n"
          ],
          "name": "stdout"
        }
      ]
    },
    {
      "cell_type": "code",
      "metadata": {
        "id": "AMlDsUa3Rihv",
        "colab_type": "code",
        "colab": {
          "base_uri": "https://localhost:8080/",
          "height": 518
        },
        "outputId": "1b429216-930b-4dc5-aa4a-0ec6b06cf49f"
      },
      "source": [
        "dataiter = iter(validation_loader)\n",
        "images, labels = dataiter.next()\n",
        "images_ = images.to(device)  #no need to unsqueeze as we are passing in batches that will take care of extra dims\n",
        "labels = labels.to(device)\n",
        "outputs = model(images_)\n",
        "_, preds = torch.max(outputs, 1)\n",
        "\n",
        "fig = plt.figure(figsize = (25, 4))\n",
        "\n",
        "for idx in np.arange(20):\n",
        "  ax = fig.add_subplot(2, 10, idx + 1, xticks = [], yticks = [])\n",
        "  plt.imshow(im_convert(images[idx]))\n",
        "  ax.set_title(\"{} ({})\".format(str(preds[idx].item()), str(labels[idx].item())), color = (\"green\" if preds[idx] == labels[idx] else \"red\"))\n"
      ],
      "execution_count": 28,
      "outputs": [
        {
          "output_type": "stream",
          "text": [
            "(28, 28, 1)\n",
            "(28, 28, 1)\n",
            "(28, 28, 1)\n",
            "(28, 28, 1)\n",
            "(28, 28, 1)\n",
            "(28, 28, 1)\n",
            "(28, 28, 1)\n",
            "(28, 28, 1)\n",
            "(28, 28, 1)\n",
            "(28, 28, 1)\n",
            "(28, 28, 1)\n",
            "(28, 28, 1)\n",
            "(28, 28, 1)\n",
            "(28, 28, 1)\n",
            "(28, 28, 1)\n",
            "(28, 28, 1)\n",
            "(28, 28, 1)\n",
            "(28, 28, 1)\n",
            "(28, 28, 1)\n",
            "(28, 28, 1)\n"
          ],
          "name": "stdout"
        },
        {
          "output_type": "display_data",
          "data": {
            "image/png": "[encoded data removed]",
            "text/plain": [
              "<Figure size 1800x288 with 20 Axes>"
            ]
          },
          "metadata": {
            "tags": []
          }
        }
      ]
    }
  ]
}